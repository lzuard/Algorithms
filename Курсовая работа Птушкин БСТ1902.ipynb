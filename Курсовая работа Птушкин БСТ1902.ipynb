{
 "cells": [
  {
   "cell_type": "markdown",
   "metadata": {},
   "source": [
    "# Курсовая работа \n",
    "## По дисциплине \"СиАОД\""
   ]
  },
  {
   "cell_type": "markdown",
   "metadata": {},
   "source": [
    "### Выполнил:\n",
    "#### Студент Группы БСТ1902\n",
    "#### Птушкин А.Н."
   ]
  },
  {
   "cell_type": "markdown",
   "metadata": {},
   "source": [
    "### Ход работы"
   ]
  },
  {
   "cell_type": "markdown",
   "metadata": {},
   "source": [
    "#### Подключение библиотек"
   ]
  },
  {
   "cell_type": "code",
   "execution_count": 2,
   "metadata": {},
   "outputs": [],
   "source": [
    "import random\n",
    "import math"
   ]
  },
  {
   "cell_type": "markdown",
   "metadata": {},
   "source": [
    "### Задача 1. «Шарики и стрелы»"
   ]
  },
  {
   "cell_type": "markdown",
   "metadata": {},
   "source": [
    "Некоторые сферические шарики распределены по двухмерному пространству. Для каждого шарика даны x­координаты начала и конца его горизонтального диаметра. Так как пространство двумерно, то y­координаты не имеют значения в данной задаче. Координата xstart всегда меньше xend .\n",
    "Стрелу можно выстрелить строго вертикально (вдоль y­оси) из разных точек x­оси. Шарик с координатами xstart и xend уничтожается стрелой, если она была выпущена из такой позиции x, что xstart ⩽ x ⩽ xend. Когда стрела выпущена, она летит в пространстве бесконечное время (уничтожая все шарики на пути).\n",
    "Дан массив points, где points[i] = [xstart, xend]. Напишите функцию, возвращаю­ щую минимальное количество стрел, которые нужно выпустить, чтобы уничтожить все шари­ ки."
   ]
  },
  {
   "cell_type": "markdown",
   "metadata": {},
   "source": [
    "#### Решение"
   ]
  },
  {
   "cell_type": "code",
   "execution_count": 3,
   "metadata": {},
   "outputs": [],
   "source": [
    "class Task1:\n",
    "    \n",
    "    def get_arr(self,size, left_bound, right_bound):\n",
    "        _arr = []\n",
    "        for i in range(size):\n",
    "            _arr.append(random.randint(left_bound, right_bound))\n",
    "\n",
    "        _arr.sort()\n",
    "        return _arr\n",
    "    \n",
    "    def arr_sort(self,arr):\n",
    "        for i in range(len(arr) - 1):\n",
    "            minXstart = arr[i][0]\n",
    "            min_index = i\n",
    "            for j in range(i + 1, len(arr)):\n",
    "                if minXstart > arr[j][0]:\n",
    "                    min_index = j\n",
    "                    minXstart = arr[j][0]\n",
    "            temp = arr[i]\n",
    "            arr[i] = arr[min_index]\n",
    "            arr[min_index] = temp\n",
    "    \n",
    "    def run(self):\n",
    "        #points = [[1,2],[3,4],[5,6],[7,8]]\n",
    "        points = []\n",
    "        size = 8\n",
    "        for i in range(size):\n",
    "            points.append(self.get_arr(2, 0, 100))\n",
    "\n",
    "        self.arr_sort(points)\n",
    "        print(\"Массив:\\n\", points)\n",
    "        shots = 0\n",
    "        while len(points) > 0:\n",
    "            count=0\n",
    "            i = 1\n",
    "            while i < len(points) and points[i - 1][1] >= points[i][0] and points[0][1] >= points[i][0]:\n",
    "                i += 1\n",
    "                count += 1\n",
    "                \n",
    "            while count >= 0:\n",
    "                del points[count]\n",
    "                count -= 1\n",
    "\n",
    "            shots += 1\n",
    "        print(\"\\nКоличество выстрелов:\", shots)"
   ]
  },
  {
   "cell_type": "markdown",
   "metadata": {},
   "source": [
    "#### Тестирование программы"
   ]
  },
  {
   "cell_type": "code",
   "execution_count": 4,
   "metadata": {},
   "outputs": [
    {
     "name": "stdout",
     "output_type": "stream",
     "text": [
      "Массив:\n",
      " [[1, 27], [13, 20], [15, 32], [16, 100], [32, 59], [42, 44], [51, 67], [95, 98]]\n",
      "\n",
      "Количество выстрелов: 4\n"
     ]
    }
   ],
   "source": [
    "task1=Task1()\n",
    "task1.run()"
   ]
  },
  {
   "cell_type": "markdown",
   "metadata": {},
   "source": [
    "### Задача 2. «Треугольник с максимальным периметром»"
   ]
  },
  {
   "cell_type": "markdown",
   "metadata": {},
   "source": [
    "Массив A состоит из целых положительных чисел ­ длин отрезков. Составьте из трех отрез­ ков такой треугольник, чтобы его периметр был максимально возможным. Если невозможно составить треугольник с положительной площадью ­ функция возвращает 0."
   ]
  },
  {
   "cell_type": "markdown",
   "metadata": {},
   "source": [
    "#### Решение"
   ]
  },
  {
   "cell_type": "code",
   "execution_count": 26,
   "metadata": {},
   "outputs": [],
   "source": [
    "class Task2:\n",
    "    def get_arr(self,size, left_bound, right_bound):\n",
    "        _arr = []\n",
    "\n",
    "        if size < 3:\n",
    "            size = 3\n",
    "\n",
    "        if size > 10000:\n",
    "            size = 10000\n",
    "\n",
    "        for i in range(size):\n",
    "            _arr.append(random.randint(left_bound, right_bound))\n",
    "\n",
    "        return _arr\n",
    "    \n",
    "    def get_p(self, a, b, c):\n",
    "        return a + b + c\n",
    "    \n",
    "    def get_s(self,a, b, c):\n",
    "        p = self.get_p(a, b, c) / 2\n",
    "\n",
    "        s_not_done = p * (p - a) * (p - b) * (p - c)\n",
    "\n",
    "        if s_not_done > 0:\n",
    "            return math.sqrt(s_not_done)\n",
    "        else:\n",
    "            return 0\n",
    "        \n",
    "    def get_arr_from_user(self):\n",
    "        str = input(\"Введите числа через пробел:\\n\") + \" \"\n",
    "\n",
    "        arr = []\n",
    "        temp = \"\"\n",
    "        for i in range(len(str)):\n",
    "            if str[i] == \" \":\n",
    "                arr.append(int(temp))\n",
    "                temp = \"\"\n",
    "            else:\n",
    "                temp += str[i]\n",
    "\n",
    "        return arr\n",
    "    \n",
    "    def run(self):\n",
    "        # Для ручного ввода массива:\n",
    "        arr = self.get_arr_from_user()\n",
    "\n",
    "        # Для генерации массива заданного размера:\n",
    "        # arr = self.get_arr(20,1,10**6)\n",
    "\n",
    "        arr.sort(reverse=True)\n",
    "\n",
    "        i=0\n",
    "        s=0\n",
    "\n",
    "        while s==0 and i<len(arr)-2:\n",
    "            s=self.get_s(arr[i],arr[i+1],arr[i+2])\n",
    "            i+=1\n",
    "\n",
    "        i-=1\n",
    "\n",
    "        if s>0:\n",
    "            p=self.get_p(arr[i],arr[i+1],arr[i+2])\n",
    "        else:\n",
    "            p=0\n",
    "\n",
    "        print(\"Максимальный периметр: \", p)\n",
    "        print(\"Максимальная площадь: \", s)\n",
    "        print(\"Стороны: \", i, i+1, i+2)"
   ]
  },
  {
   "cell_type": "markdown",
   "metadata": {},
   "source": [
    "#### Тестриование программы"
   ]
  },
  {
   "cell_type": "code",
   "execution_count": 29,
   "metadata": {},
   "outputs": [
    {
     "name": "stdout",
     "output_type": "stream",
     "text": [
      "Введите числа через пробел:\n",
      "3 6 2 3\n",
      "Максимальный периметр:  8\n",
      "Максимальная площадь:  2.8284271247461903\n",
      "Стороны:  1 2 3\n"
     ]
    }
   ],
   "source": [
    "task2=Task2()\n",
    "task2.run()"
   ]
  },
  {
   "cell_type": "markdown",
   "metadata": {},
   "source": [
    "### Задача 3. «Максимальное число»"
   ]
  },
  {
   "cell_type": "markdown",
   "metadata": {},
   "source": [
    "Дан массив неотрицательных целых чисел nums. Расположите их в таком порядке, чтобы вместе они образовали максимально возможное число.\n",
    "Замечание: Результат может быть очень большим числом, поэтому представьте его как string, а не integer."
   ]
  },
  {
   "cell_type": "markdown",
   "metadata": {},
   "source": [
    "#### Решение"
   ]
  },
  {
   "cell_type": "code",
   "execution_count": 31,
   "metadata": {},
   "outputs": [],
   "source": [
    "class Task3:\n",
    "    def first_is_bigger(self,int_val1, int_val2):\n",
    "        val1=str(int_val1)\n",
    "        val2=str(int_val2)\n",
    "        return int(val1+val2)>int(val2+val1)\n",
    "     \n",
    "        \n",
    "        \n",
    "    def run(self):\n",
    "        task2=Task2()\n",
    "        # Для ручного ввода массива:\n",
    "        arr = task2.get_arr_from_user()\n",
    "\n",
    "        # Для генерации массива заданного размера:\n",
    "        # arr = task2.get_arr(20,1,100)\n",
    "\n",
    "        answer = \"\"\n",
    "\n",
    "        for i in range(len(arr) - 1):\n",
    "            max_elem = arr[i]\n",
    "            max_index = i\n",
    "\n",
    "            for j in range(i + 1, len(arr)):\n",
    "                if self.first_is_bigger(arr[j], max_elem):\n",
    "                    max_elem = arr[j]\n",
    "                    max_index = j\n",
    "\n",
    "            temp = arr[i]\n",
    "            arr[i] = max_elem\n",
    "            arr[max_index] = temp\n",
    "\n",
    "        for i in range(len(arr)):\n",
    "            answer += str(arr[i])\n",
    "\n",
    "        print(\"\\nМаксимально возможное число: \",answer)"
   ]
  },
  {
   "cell_type": "markdown",
   "metadata": {},
   "source": [
    "#### Тестирование программы"
   ]
  },
  {
   "cell_type": "code",
   "execution_count": 32,
   "metadata": {},
   "outputs": [
    {
     "name": "stdout",
     "output_type": "stream",
     "text": [
      "Введите числа через пробел:\n",
      "126 76 89 25\n",
      "\n",
      "Максимально возможное число:  897625126\n"
     ]
    }
   ],
   "source": [
    "task3=Task3()\n",
    "task3.run()"
   ]
  },
  {
   "cell_type": "markdown",
   "metadata": {},
   "source": [
    "### Задача 4. «Сортировка диагоналей в матрице»"
   ]
  },
  {
   "cell_type": "markdown",
   "metadata": {},
   "source": [
    "Дана матрица mat размером m * n, значения ­ целочисленные. Напишите функцию, сор­ тирующую каждую диагональ матрицы по возрастанию и возвращающую получившуюся матрицу."
   ]
  },
  {
   "cell_type": "markdown",
   "metadata": {},
   "source": [
    "#### Решение"
   ]
  },
  {
   "cell_type": "code",
   "execution_count": 39,
   "metadata": {},
   "outputs": [],
   "source": [
    "class Task4:\n",
    "    def get_arr(self,size, left_bound, right_bound):\n",
    "        _arr = []\n",
    "        for i in range(size):\n",
    "            _arr.append(random.randint(left_bound, right_bound))\n",
    "\n",
    "        _arr.sort()\n",
    "        return _arr\n",
    "    \n",
    "    def print_matrix(self,matrix):\n",
    "        for i in range(len(matrix)):\n",
    "            print(matrix[i], \"\")\n",
    "    \n",
    "    def take_nums(self,matrix, row, col):\n",
    "        temp = []\n",
    "        while row < len(matrix) and col < len(matrix[0]):\n",
    "            temp.append(matrix[row][col])\n",
    "            row += 1\n",
    "            col += 1\n",
    "        return temp\n",
    "    \n",
    "    def insert_nums(self,matrix, row, col, arr):\n",
    "        i = 0\n",
    "        while row < len(matrix) and col < len(matrix[0]) and i < len(arr):\n",
    "            matrix[row][col]=arr[i]\n",
    "            row += 1\n",
    "            col += 1\n",
    "            i += 1\n",
    "    \n",
    "    def run(self):\n",
    "        matrix = []\n",
    "        m = 4  # rows\n",
    "        n = 4  # column\n",
    "        for i in range(m):\n",
    "            matrix.append(self.get_arr(n, 1, 100))\n",
    "\n",
    "        print(\"Исходная матрица\")\n",
    "        self.print_matrix(matrix)\n",
    "        print(\"\\n\")\n",
    "\n",
    "        # левая часть\n",
    "        for i in range(m-1):\n",
    "            temp = self.take_nums(matrix, i, 0)\n",
    "            temp.sort()\n",
    "            self.insert_nums(matrix, i, 0, temp)\n",
    "\n",
    "        # правая часть\n",
    "        for i in range(1,n-1):\n",
    "            temp = self.take_nums(matrix, 0, i)\n",
    "            temp.sort()\n",
    "            self.insert_nums(matrix, 0, i, temp)\n",
    "\n",
    "        print(\"Отсортированная матрица\")\n",
    "        self.print_matrix(matrix)\n",
    "        print(\"\\n\")"
   ]
  },
  {
   "cell_type": "markdown",
   "metadata": {},
   "source": [
    "#### Тестирование программы"
   ]
  },
  {
   "cell_type": "code",
   "execution_count": 40,
   "metadata": {},
   "outputs": [
    {
     "name": "stdout",
     "output_type": "stream",
     "text": [
      "Исходная матрица\n",
      "[1, 71, 72, 93] \n",
      "[8, 24, 49, 80] \n",
      "[22, 27, 45, 70] \n",
      "[16, 24, 57, 83] \n",
      "\n",
      "\n",
      "Отсортированная матрица\n",
      "[1, 49, 72, 93] \n",
      "[8, 24, 70, 80] \n",
      "[22, 27, 45, 71] \n",
      "[16, 24, 57, 83] \n",
      "\n",
      "\n"
     ]
    }
   ],
   "source": [
    "task4=Task4()\n",
    "task4.run()"
   ]
  },
  {
   "cell_type": "markdown",
   "metadata": {},
   "source": [
    "### Задача 5. «Стопки монет»"
   ]
  },
  {
   "cell_type": "markdown",
   "metadata": {},
   "source": [
    "На столе стоят 3n стопок монет. Вы и ваши друзья Алиса и Боб забираете стопки монет по следующему алгоритму:\n",
    "1. Вы выбираете 3 стопки монет из оставшихся на столе.\n",
    "2. Алиса забирает себе стопку с максимальным количеством монет.\n",
    "3. Вы забираете одну из двух оставшихся стопок.\n",
    "4. Боб забирает последнюю стопку.\n",
    "5. Если еще остались стопки, то действия повторяются с первого шага.\n",
    "\n",
    "Дан массив целых положительных чисел piles. Напишите функцию, возвращающую макси­ мальное число монет, которое вы можете получить."
   ]
  },
  {
   "cell_type": "markdown",
   "metadata": {},
   "source": [
    "#### Решение"
   ]
  },
  {
   "cell_type": "code",
   "execution_count": 20,
   "metadata": {},
   "outputs": [],
   "source": [
    "class Task5:\n",
    "    def run(self):\n",
    "        piles=[2,4,1,2,7,8]\n",
    "        piles.sort()\n",
    "        result = 0\n",
    "        n = len(piles) // 3\n",
    "        \n",
    "        for i in range(n, len(piles), 2):\n",
    "            result += piles[i]\n",
    "        print(result)"
   ]
  },
  {
   "cell_type": "markdown",
   "metadata": {},
   "source": [
    "#### Тестирование программы"
   ]
  },
  {
   "cell_type": "code",
   "execution_count": 21,
   "metadata": {},
   "outputs": [
    {
     "name": "stdout",
     "output_type": "stream",
     "text": [
      "9\n"
     ]
    }
   ],
   "source": [
    "task5=Task5()\n",
    "task5.run()"
   ]
  },
  {
   "cell_type": "markdown",
   "metadata": {},
   "source": [
    "### Задача 6. «Объединение отрезков»"
   ]
  },
  {
   "cell_type": "markdown",
   "metadata": {},
   "source": [
    "Дан массив отрезков intervals, в котором intervals[i] = [starti, endi], некоторые отрезки могут пересекаться. Напишите функцию, которая объединяет все пересекающиеся от­ резки в один и возвращает новый массив непересекающихся отрезков.\n"
   ]
  },
  {
   "cell_type": "markdown",
   "metadata": {},
   "source": [
    "#### Решение"
   ]
  },
  {
   "cell_type": "code",
   "execution_count": 42,
   "metadata": {},
   "outputs": [],
   "source": [
    "class Task6:\n",
    "    def run(self):\n",
    "        points = [[1,10],[5,6],[11,12]]\n",
    "        result = []\n",
    "\n",
    "        # self.arr_sort(points)\n",
    "        print(\"Массив:\\n\", points)\n",
    "        while len(points) > 0:\n",
    "            \n",
    "            count = 0\n",
    "            i = 1\n",
    "            start=points[0][0]\n",
    "            end=points[0][1]\n",
    "\n",
    "            while i<len(points) and end >= points[i][0]:\n",
    "                if points[i][1]>end:\n",
    "                    end=points[i][1]\n",
    "                i+=1\n",
    "                count+=1\n",
    "\n",
    "            temp = [start, end]\n",
    "            result.append(temp)\n",
    "\n",
    "            while count >= 0:\n",
    "                del points[count]\n",
    "                count -= 1\n",
    "\n",
    "        print(\"Результат:\")\n",
    "        print(result)"
   ]
  },
  {
   "cell_type": "markdown",
   "metadata": {},
   "source": [
    "#### Тестирование"
   ]
  },
  {
   "cell_type": "code",
   "execution_count": 43,
   "metadata": {},
   "outputs": [
    {
     "name": "stdout",
     "output_type": "stream",
     "text": [
      "Массив:\n",
      " [[1, 10], [5, 6], [11, 12]]\n",
      "Результат:\n",
      "[[1, 10], [11, 12]]\n"
     ]
    }
   ],
   "source": [
    "task6=Task6()\n",
    "task6.run()"
   ]
  },
  {
   "cell_type": "markdown",
   "metadata": {},
   "source": [
    "### Задача 7. «Задача на строки 1»"
   ]
  },
  {
   "cell_type": "markdown",
   "metadata": {},
   "source": [
    "Даны две строки: s1 и s2 с одинаковым размером, проверьте, может ли некоторая перестановка строки s1 “победить” некоторую перестановку строки s2 или наоборот.\n",
    "Строка x может “победить” строку y (обе имеют размер n), если x[i]> = y [i] (в алфавитном порядке) для всех i от 0 до n-1."
   ]
  },
  {
   "cell_type": "markdown",
   "metadata": {},
   "source": [
    " #### Решение"
   ]
  },
  {
   "cell_type": "code",
   "execution_count": 8,
   "metadata": {},
   "outputs": [],
   "source": [
    "class Task7:\n",
    "    def check_next_letter(self,i,bigger,smaller,equality):\n",
    "        \n",
    "        if i>=len(bigger):\n",
    "            return True\n",
    "        else:\n",
    "            if equality and not smaller[i]==bigger[i]:\n",
    "                if smaller[i]>bigger[i]:\n",
    "                    smaller,bigger =bigger,smaller\n",
    "                equality=False\n",
    "            return bigger[i]>=smaller[i] and self.check_next_letter(i+1,bigger,smaller,equality)\n",
    "\n",
    "    def run(self):\n",
    "        s1=list(input(\"Введите первую строку: \"))\n",
    "        s2=list(input(\"Введите вторую строку: \"))\n",
    "        s1.sort()\n",
    "        s2.sort()\n",
    "\n",
    "        if s1[0]>=s2[0]:\n",
    "            answer=self.check_next_letter(1,s1,s2,True)\n",
    "        else:\n",
    "            answer=self.check_next_letter(1,s2,s1,False)\n",
    "\n",
    "        print(answer)"
   ]
  },
  {
   "cell_type": "markdown",
   "metadata": {},
   "source": [
    "#### Тестирование программы"
   ]
  },
  {
   "cell_type": "code",
   "execution_count": 72,
   "metadata": {},
   "outputs": [
    {
     "name": "stdout",
     "output_type": "stream",
     "text": [
      "Введите первую строку: abc\n",
      "Введите вторую строку: xya\n",
      "True\n"
     ]
    }
   ],
   "source": [
    "task7=Task7()\n",
    "task7.run()"
   ]
  },
  {
   "cell_type": "markdown",
   "metadata": {},
   "source": [
    "### Задача 8. «Задача на строки 2»"
   ]
  },
  {
   "cell_type": "markdown",
   "metadata": {},
   "source": [
    "Дана строка s, вернуть самую длинную полиндромную подстроку в s."
   ]
  },
  {
   "cell_type": "markdown",
   "metadata": {},
   "source": [
    "#### Решение"
   ]
  },
  {
   "cell_type": "code",
   "execution_count": 12,
   "metadata": {},
   "outputs": [],
   "source": [
    "class Task8:\n",
    "    def get_palindrome(self,text,start,end):\n",
    "        while end+1<len(text) and text[start]==text[end+1]:\n",
    "            end+=1\n",
    "\n",
    "        while start>0 and end+1<len(text) and text[start-1]==text[end+1]:\n",
    "            start-=1\n",
    "            end+=1\n",
    "\n",
    "        return text[start:end+1]\n",
    "\n",
    "    def run(self):\n",
    "        text=input(\"Введите строку: \")\n",
    "        answer=\"\"\n",
    "\n",
    "        for i in range(len(text)):\n",
    "            temp=self.get_palindrome(text,i,i)\n",
    "\n",
    "            if len(answer)<len(temp):\n",
    "                answer=temp\n",
    "\n",
    "        print(answer)"
   ]
  },
  {
   "cell_type": "markdown",
   "metadata": {},
   "source": [
    "#### Тестирование"
   ]
  },
  {
   "cell_type": "code",
   "execution_count": 13,
   "metadata": {},
   "outputs": [
    {
     "name": "stdout",
     "output_type": "stream",
     "text": [
      "Введите строку: babad\n",
      "bab\n"
     ]
    }
   ],
   "source": [
    "task8=Task8()\n",
    "task8.run()"
   ]
  },
  {
   "cell_type": "markdown",
   "metadata": {},
   "source": [
    "### Задача 9. «Задача на строки 3»"
   ]
  },
  {
   "cell_type": "markdown",
   "metadata": {},
   "source": [
    "Вернуть количество отдельных непустых подстрок текста, которые могут быть записаны как конкатенация некоторой строки с самой собой (т.е. она может быть записана, как a + a, где a - некоторая строка).\n"
   ]
  },
  {
   "cell_type": "markdown",
   "metadata": {},
   "source": [
    "#### Решение"
   ]
  },
  {
   "cell_type": "code",
   "execution_count": 46,
   "metadata": {},
   "outputs": [],
   "source": [
    "class Task9:\n",
    "    def run(self):\n",
    "        text=\"abcabcabc\"\n",
    "        result=[]\n",
    "        for step in range(1,(len(text)//2+1)):\n",
    "            for i in range(len(text)-2*step):\n",
    "                if text[i:i+step]==text[i+step:i+step+step]:\n",
    "                    result.append(text[i:i+step])\n",
    "        print(len(result))"
   ]
  },
  {
   "cell_type": "markdown",
   "metadata": {},
   "source": [
    "#### Тестирование программы"
   ]
  },
  {
   "cell_type": "code",
   "execution_count": 47,
   "metadata": {},
   "outputs": [
    {
     "name": "stdout",
     "output_type": "stream",
     "text": [
      "3\n"
     ]
    }
   ],
   "source": [
    "task9=Task9()\n",
    "task9.run()"
   ]
  },
  {
   "cell_type": "code",
   "execution_count": null,
   "metadata": {},
   "outputs": [],
   "source": []
  }
 ],
 "metadata": {
  "kernelspec": {
   "display_name": "Python 3",
   "language": "python",
   "name": "python3"
  },
  "language_info": {
   "codemirror_mode": {
    "name": "ipython",
    "version": 3
   },
   "file_extension": ".py",
   "mimetype": "text/x-python",
   "name": "python",
   "nbconvert_exporter": "python",
   "pygments_lexer": "ipython3",
   "version": "3.8.5"
  }
 },
 "nbformat": 4,
 "nbformat_minor": 4
}
