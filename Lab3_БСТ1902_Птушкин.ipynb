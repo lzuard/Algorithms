{
 "cells": [
  {
   "cell_type": "markdown",
   "metadata": {},
   "source": [
    "# Лаборатораня работа №3\n",
    "## Выполнил студент группы БСТ1902 Птушкин А.Н."
   ]
  },
  {
   "cell_type": "markdown",
   "metadata": {},
   "source": [
    "### Задание №1\n",
    "Реализовать методы поиска подстроки в строке. Добавить возможность ввода строки и подстроки с клавиатуры. Предусмотреть возможность существования пробела. Реализовать возможность выбора опции чувствительности или нечувствительности к регистру. Оценить время работы каждого алгоритма поиска и сравнить его со временем работы стандартной функции поиска, используемой в выбранном языке программирования.\n"
   ]
  },
  {
   "cell_type": "code",
   "execution_count": 80,
   "metadata": {},
   "outputs": [],
   "source": [
    "class SubstringSearch:\n",
    "    def __init__(self,case_ignoring):\n",
    "        self.case_ignore=case_ignoring\n",
    "        \n",
    "\n",
    "    def __find_prefix(self,text):\n",
    "        prefix =[]\n",
    "        for i in range(len(text)):\n",
    "            prefix.append(0)\n",
    "\n",
    "        for i in range(1, len(text)):\n",
    "            k = prefix[i - 1]\n",
    "            while k > 0 and text[k] != text[i]:\n",
    "                k = prefix[k - 1]\n",
    "            if text[k] == text[i]:\n",
    "                k += 1\n",
    "            prefix[i] = k\n",
    "\n",
    "        return prefix\n",
    "\n",
    "    \n",
    "    def search_kmp(self,text,search_str):\n",
    "        result =[]\n",
    "        \n",
    "        if(self.case_ignore):\n",
    "            text=text.lower()\n",
    "            search_str=search_str.lower()\n",
    "        \n",
    "        prefix=self.__find_prefix(search_str+\"$\"+text)[len(search_str)+1:]\n",
    "        \n",
    "        for i in range(len(prefix)):\n",
    "            if prefix[i]==len(search_str):\n",
    "                result.append((i-len(search_str)+1,i))\n",
    "        \n",
    "        return result\n",
    "        \n",
    "\n",
    "    def __find_table(self,search_str):\n",
    "        table = [len(search_str)] * 256\n",
    "        for i in range(len(search_str) - 1):\n",
    "            table[ord(search_str[i])] = len(search_str) - 1 - i\n",
    "        return table\n",
    "\n",
    "    def search_bm(self,text, search_str):\n",
    "        \n",
    "        if(self.case_ignore):\n",
    "            text=text.lower()\n",
    "            search_str=search_str.lower()\n",
    "            \n",
    "        answer = []\n",
    "        table = self.__find_table(search_str)\n",
    "        skip = 0\n",
    "        \n",
    "        while len(text) - skip >= len(search_str):\n",
    "            if text[skip:(skip + len(search_str))] == search_str:\n",
    "                answer.append((skip, skip + len(search_str)-1))\n",
    "            skip += table[ord(text[skip + len(search_str) - 1])]\n",
    "            \n",
    "        return answer"
   ]
  },
  {
   "cell_type": "code",
   "execution_count": 83,
   "metadata": {},
   "outputs": [],
   "source": [
    "def start_search():\n",
    "    print(\"Какой метод использовать:\\n1-Кнута-Морриса-Прата\\n2-Упрощенный Бойера-Мура\")\n",
    "    input_method=int(input())\n",
    "    \n",
    "    print(\"\\nВключить чувствительность к регистру?:\\n1-Выключить\\n2-Включить\")\n",
    "    input_case=int(input())\n",
    "    if(input_case==1):\n",
    "        case=True\n",
    "    else:\n",
    "        case=False\n",
    "    \n",
    "\n",
    "    text=input(\"\\nИсходный текст: \")\n",
    "    search_str=input(\"Подстрока: \")\n",
    "\n",
    "\n",
    "    search=SubstringSearch(case)\n",
    "    \n",
    "    if(input_method==1):\n",
    "        answer=search.search_kmp(text,search_str)\n",
    "    else:\n",
    "        answer=search.search_bm(text,search_str)\n",
    "    \n",
    "    print(\"\\nРезультат:\\n\",answer,\"\\n\")"
   ]
  },
  {
   "cell_type": "code",
   "execution_count": null,
   "metadata": {},
   "outputs": [
    {
     "name": "stdout",
     "output_type": "stream",
     "text": [
      "Какой метод использовать:\n",
      "1-Кнута-Мориса-Прата\n",
      "2-Упрощенный Бойерса-Мура\n",
      "1\n",
      "\n",
      "Включить чувствительность к регистру?:\n",
      "1-Выключить\n",
      "2-Включить\n",
      "1\n",
      "\n",
      "Исходный текст: лрвыфао\n",
      "Подстрока: ыфао\n",
      "\n",
      "Результат:\n",
      " [(3, 6)] \n",
      "\n",
      "Какой метод использовать:\n",
      "1-Кнута-Мориса-Прата\n",
      "2-Упрощенный Бойерса-Мура\n"
     ]
    }
   ],
   "source": [
    "while True:\n",
    "    start_search()"
   ]
  },
  {
   "cell_type": "code",
   "execution_count": null,
   "metadata": {},
   "outputs": [],
   "source": []
  },
  {
   "cell_type": "code",
   "execution_count": null,
   "metadata": {},
   "outputs": [],
   "source": []
  }
 ],
 "metadata": {
  "kernelspec": {
   "display_name": "Python 3",
   "language": "python",
   "name": "python3"
  },
  "language_info": {
   "codemirror_mode": {
    "name": "ipython",
    "version": 3
   },
   "file_extension": ".py",
   "mimetype": "text/x-python",
   "name": "python",
   "nbconvert_exporter": "python",
   "pygments_lexer": "ipython3",
   "version": "3.8.5"
  }
 },
 "nbformat": 4,
 "nbformat_minor": 4
}
