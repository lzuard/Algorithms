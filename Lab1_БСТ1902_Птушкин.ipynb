{
 "cells": [
  {
   "cell_type": "markdown",
   "metadata": {},
   "source": [
    "# Лаборатораня работа №1\n",
    "## Выполнил студент группы БСТ1902 Птушкин А.Н."
   ]
  },
  {
   "cell_type": "markdown",
   "metadata": {},
   "source": [
    "### Задание №1\n",
    "Вывести \"Hello, World\""
   ]
  },
  {
   "cell_type": "code",
   "execution_count": 2,
   "metadata": {},
   "outputs": [
    {
     "name": "stdout",
     "output_type": "stream",
     "text": [
      "Hello, World!\n"
     ]
    }
   ],
   "source": [
    "print(\"Hello, World!\")\n"
   ]
  },
  {
   "cell_type": "markdown",
   "metadata": {},
   "source": [
    "### Задание №2\n",
    "Написать генератор случайных многомерных матриц"
   ]
  },
  {
   "cell_type": "code",
   "execution_count": 3,
   "metadata": {},
   "outputs": [
    {
     "name": "stdout",
     "output_type": "stream",
     "text": [
      "_______________________________________________________________________________\n",
      "\n",
      "Генерация случайных матриц размера MxN со значениями от min_limit до max_limit.\n",
      "_______________________________________________________________________________\n",
      "\n",
      "\n",
      "Введите M: 10\n",
      "Введите N: 9\n",
      "Введите минимальное значение: 7\n",
      "Введите максимальное значение: 100\n",
      "\n",
      "\n",
      "_______________________________________________________________________________\n",
      "\n",
      "\n",
      "Матрица сгенерирована:\n",
      "\n",
      "[[ 29.  41.  78.  10.  17.  76.  87.  22.  48.]\n",
      " [ 88.  80. 100.  44.  74.  36.  11.  62.  39.]\n",
      " [  8.  31.  79.  95.  11.  97.  74.  25.  46.]\n",
      " [ 45.  26.  75.  47.  41.  89.  70.  94.  32.]\n",
      " [ 30.  94.  93.  61.  25.  68.  54.  51.  69.]\n",
      " [ 55.  26.  56.  96.  81.  39.  22.  74.  90.]\n",
      " [ 12.  53.  43.  30.  50.  72.  44.  33.  25.]\n",
      " [ 23.  15.  78.  73.  41.  33.  40.  68.  33.]\n",
      " [ 10.  78.  59.  78.  84.  35.   7.  44.  15.]\n",
      " [ 78.  80.  19.  73.  28.  62.  11.  90.  14.]]\n",
      "\n",
      "\n",
      "_______________________________________________________________________________\n"
     ]
    }
   ],
   "source": [
    "import numpy\n",
    "import random\n",
    "\n",
    "M=50\n",
    "N=50\n",
    "min_limit=-250\n",
    "max_limit=1016\n",
    "    \n",
    "#Ввод значений\n",
    "print(\"_______________________________________________________________________________\")\n",
    "print(\"\\nГенерация случайных матриц размера MxN со значениями от min_limit до max_limit.\")\n",
    "print(\"_______________________________________________________________________________\")\n",
    "\n",
    "strM=input(\"\\n\\nВведите M: \")\n",
    "if len(strM)>0: M=int(strM)\n",
    "    \n",
    "strN=input(\"Введите N: \")\n",
    "if len(strN)>0: N=int(strN)\n",
    "    \n",
    "#Минимальный элемент не может быть больше максимального\n",
    "while True:\n",
    "        \n",
    "    strMin_limit=input(\"Введите минимальное значение: \")\n",
    "    if len(strMin_limit)>0: min_limit=int(strMin_limit)\n",
    "\n",
    "    strMax_limit=input(\"Введите максимальное значение: \")\n",
    "    if len(strMax_limit)>0: max_limit=int(strMax_limit)\n",
    "            \n",
    "    #Условие выхода из цикла\n",
    "    if (min_limit<=max_limit): break\n",
    "    else: print(\"\\nМинимальный элемент не может быть больше максимального, повторите попытку\\n\")\n",
    "\n",
    "print(\"\\n\\n_______________________________________________________________________________\")\n",
    "\n",
    "\n",
    "#Создание матрицы \n",
    "array=numpy.zeros((M,N))\n",
    "    \n",
    "#Заполнение матрицы\n",
    "for i in range(M):\n",
    "    for j in range(N):\n",
    "        array[i][j]=random.randint(int(min_limit), int(max_limit))\n",
    "\n",
    "\n",
    "#Вывод\n",
    "print(\"\\n\\nМатрица сгенерирована:\\n\")\n",
    "print(array)\n",
    "print(\"\\n\\n_______________________________________________________________________________\")\n",
    "        \n",
    "\n"
   ]
  },
  {
   "cell_type": "markdown",
   "metadata": {},
   "source": [
    "### Задание №3\n",
    "Методы сортировки"
   ]
  },
  {
   "cell_type": "markdown",
   "metadata": {},
   "source": [
    "#### Сортировка выборкой"
   ]
  },
  {
   "cell_type": "code",
   "execution_count": 4,
   "metadata": {},
   "outputs": [],
   "source": [
    "def Selection_Sort(old_array):\n",
    "    new_array=old_array.copy()\n",
    "    for i in range(M):\n",
    "        for j in range(N-1):\n",
    "            min=j\n",
    "            for h in range (j+1,N):\n",
    "                if (new_array[i][h]<new_array[i][min]):\n",
    "                    min=h\n",
    "            temp=new_array[i][j]\n",
    "            new_array[i][j]=new_array[i][min]\n",
    "            new_array[i][min]=temp\n",
    "    return new_array"
   ]
  },
  {
   "cell_type": "markdown",
   "metadata": {},
   "source": [
    "#### Сортировка вставкой"
   ]
  },
  {
   "cell_type": "code",
   "execution_count": 5,
   "metadata": {},
   "outputs": [],
   "source": [
    "def Insertion_Sort(old_array):\n",
    "    new_array=old_array.copy()\n",
    "    for i in range(M):\n",
    "        for j in range(1,N):\n",
    "            temp=new_array[i][j]\n",
    "            index=j\n",
    "            while (temp<new_array[i][index-1]) and (index>0):\n",
    "                new_array[i][index]=new_array[i][index-1]\n",
    "                index-=1\n",
    "            new_array[i][index]=temp\n",
    "    return new_array"
   ]
  },
  {
   "cell_type": "markdown",
   "metadata": {},
   "source": [
    "#### Сортировка обменом"
   ]
  },
  {
   "cell_type": "code",
   "execution_count": 13,
   "metadata": {},
   "outputs": [],
   "source": [
    "def Bubble_Sort(old_array):\n",
    "    new_array=old_array.copy()\n",
    "    for i in range(M):\n",
    "        for j in range(N):\n",
    "            for h in range(N-j-1):\n",
    "                if new_array[i][h+1]<new_array[i][h]:\n",
    "                    new_array[i][h],new_array[i][h+1]=new_array[i][h+1],new_array[i][h]\n",
    "    return new_array"
   ]
  },
  {
   "cell_type": "markdown",
   "metadata": {},
   "source": [
    "#### Сортировка Шелла"
   ]
  },
  {
   "cell_type": "code",
   "execution_count": 7,
   "metadata": {},
   "outputs": [],
   "source": [
    "def Shell_Sort(old_array):\n",
    "    new_array=old_array.copy()\n",
    "    for i in range(M):\n",
    "        d=int(N/2)\n",
    "        while d>0:\n",
    "            for j in range(N):\n",
    "                for h in range(int(j+d),N,d):\n",
    "                    if new_array[i][j]>new_array[i][h]:\n",
    "                        temp=new_array[i][j]\n",
    "                        new_array[i][j]=new_array[i][h]\n",
    "                        new_array[i][h]=temp\n",
    "            \n",
    "            d=int(d/2)\n",
    "    return new_array"
   ]
  },
  {
   "cell_type": "markdown",
   "metadata": {},
   "source": [
    "#### Турнирная сортировка"
   ]
  },
  {
   "cell_type": "code",
   "execution_count": 22,
   "metadata": {},
   "outputs": [],
   "source": [
    "def tournament_sort(arr):\n",
    "    tree = [None] * 2 * (len(arr) + len(arr) % 2)\n",
    "    index = len(tree) - len(arr) - len(arr) % 2\n",
    "    \n",
    "    for i, v in enumerate(arr):\n",
    "        tree[index + i] = (i, v)\n",
    "    \n",
    "    for j in range(len(arr)):\n",
    "        n = len(arr)\n",
    "        index = len(tree) - len(arr) - len(arr) % 2\n",
    "        while index > -1:\n",
    "            n = (n + 1) // 2\n",
    "            for i in range(n):\n",
    "                i = max(index + i * 2, 1) \n",
    "                if tree[i] != None and tree[i + 1] != None:\n",
    "                    if tree[i][1] < tree[i + 1][1]:\n",
    "                        tree[i // 2] = tree[i]\n",
    "                    else:\n",
    "                        tree[i // 2] = tree[i + 1]\n",
    "                else:\n",
    "                    tree[i // 2] = tree[i] if tree[i] != None else tree[i + 1]\n",
    "            index -= n\n",
    "\n",
    "        index, x = tree[0]\n",
    "        arr[j] = x\n",
    "        tree[len(tree) - len(arr) - len(arr) % 2 + index] = None"
   ]
  },
  {
   "cell_type": "markdown",
   "metadata": {},
   "source": [
    "#### Быстрая сортировка"
   ]
  },
  {
   "cell_type": "code",
   "execution_count": 18,
   "metadata": {},
   "outputs": [],
   "source": [
    "def Quicksort_Start(old_array):\n",
    "    new_array=old_array.copy()\n",
    "    for i in range(M):\n",
    "        Quicksort(0,M-2,new_array,i)\n",
    "    return new_array\n",
    "\n",
    "def Quicksort(_first, _last, _array, row):\n",
    "    first=int(_first)\n",
    "    last=int(_last)\n",
    "    middle=int((first+last)/2)\n",
    "    \n",
    "    while (first<last):\n",
    "        \n",
    "        while( _array[row][first] < _array[row][middle]): \n",
    "            first+=1\n",
    "        while( _array[row][last] > _array[row][middle]):\n",
    "            last-=1\n",
    "        if(first<=last):\n",
    "            temp=_array[row][first]\n",
    "            _array[row][first]=_array[row][last]\n",
    "            _array[row][last]=temp\n",
    "            first+=1\n",
    "            last-=1\n",
    "    \n",
    "    if(_first<last):\n",
    "        Quicksort(_first,last,_array,row)\n",
    "    if(first<_last):\n",
    "        Quicksort(first,_last,_array,row)"
   ]
  },
  {
   "cell_type": "markdown",
   "metadata": {},
   "source": [
    "#### Пирамидальная сортировка"
   ]
  },
  {
   "cell_type": "code",
   "execution_count": 21,
   "metadata": {},
   "outputs": [
    {
     "name": "stdout",
     "output_type": "stream",
     "text": [
      "Sorted array is\n",
      "5\n",
      "6\n",
      "7\n",
      "11\n",
      "12\n",
      "13\n"
     ]
    }
   ],
   "source": [
    "# Python program for implementation of heap Sort\n",
    "\n",
    "# To heapify subtree rooted at index i.\n",
    "# n is size of heap\n",
    "\n",
    "\n",
    "def heapify(arr, n, i):\n",
    "\tlargest = i # Initialize largest as root\n",
    "\tl = 2 * i + 1\t # left = 2*i + 1\n",
    "\tr = 2 * i + 2\t # right = 2*i + 2\n",
    "\n",
    "\t# See if left child of root exists and is\n",
    "\t# greater than root\n",
    "\tif l < n and arr[largest] < arr[l]:\n",
    "\t\tlargest = l\n",
    "\n",
    "\t# See if right child of root exists and is\n",
    "\t# greater than root\n",
    "\tif r < n and arr[largest] < arr[r]:\n",
    "\t\tlargest = r\n",
    "\n",
    "\t# Change root, if needed\n",
    "\tif largest != i:\n",
    "\t\tarr[i], arr[largest] = arr[largest], arr[i] # swap\n",
    "\n",
    "\t\t# Heapify the root.\n",
    "\t\theapify(arr, n, largest)\n",
    "\n",
    "# The main function to sort an array of given size\n",
    "\n",
    "\n",
    "def heapSort(arr):\n",
    "\tn = len(arr)\n",
    "\n",
    "\t# Build a maxheap.\n",
    "\tfor i in range(n//2 - 1, -1, -1):\n",
    "\t\theapify(arr, n, i)\n",
    "\n",
    "\t# One by one extract elements\n",
    "\tfor i in range(n-1, 0, -1):\n",
    "\t\tarr[i], arr[0] = arr[0], arr[i] # swap\n",
    "\t\theapify(arr, i, 0)\n",
    "\n",
    "\n",
    "# Driver code\n",
    "arr = [12, 11, 13, 5, 6, 7]\n",
    "heapSort(arr)\n",
    "n = len(arr)\n",
    "print(\"Sorted array is\")\n",
    "for i in range(n):\n",
    "\tprint(\"%d\" % arr[i]),\n",
    "# This code is contributed by Mohit Kumra\n",
    "\n"
   ]
  },
  {
   "cell_type": "markdown",
   "metadata": {},
   "source": [
    "### Вызов функций"
   ]
  },
  {
   "cell_type": "code",
   "execution_count": 19,
   "metadata": {},
   "outputs": [
    {
     "name": "stdout",
     "output_type": "stream",
     "text": [
      "Исходная матрица:\n",
      "\n",
      " [[ 29.  41.  78.  10.  17.  76.  87.  22.  48.]\n",
      " [ 88.  80. 100.  44.  74.  36.  11.  62.  39.]\n",
      " [  8.  31.  79.  95.  11.  97.  74.  25.  46.]\n",
      " [ 45.  26.  75.  47.  41.  89.  70.  94.  32.]\n",
      " [ 30.  94.  93.  61.  25.  68.  54.  51.  69.]\n",
      " [ 55.  26.  56.  96.  81.  39.  22.  74.  90.]\n",
      " [ 12.  53.  43.  30.  50.  72.  44.  33.  25.]\n",
      " [ 23.  15.  78.  73.  41.  33.  40.  68.  33.]\n",
      " [ 10.  78.  59.  78.  84.  35.   7.  44.  15.]\n",
      " [ 78.  80.  19.  73.  28.  62.  11.  90.  14.]] \n",
      "=====================\n",
      "Сортировка выборкой:\n",
      "\n",
      " [[ 10.  17.  22.  29.  41.  48.  76.  78.  87.]\n",
      " [ 11.  36.  39.  44.  62.  74.  80.  88. 100.]\n",
      " [  8.  11.  25.  31.  46.  74.  79.  95.  97.]\n",
      " [ 26.  32.  41.  45.  47.  70.  75.  89.  94.]\n",
      " [ 25.  30.  51.  54.  61.  68.  69.  93.  94.]\n",
      " [ 22.  26.  39.  55.  56.  74.  81.  90.  96.]\n",
      " [ 12.  25.  30.  33.  43.  44.  50.  53.  72.]\n",
      " [ 15.  23.  33.  33.  40.  41.  68.  73.  78.]\n",
      " [  7.  10.  15.  35.  44.  59.  78.  78.  84.]\n",
      " [ 11.  14.  19.  28.  62.  73.  78.  80.  90.]] \n",
      "=====================\n",
      "Сортировка вставкой:\n",
      "\n",
      " [[ 10.  17.  22.  29.  41.  48.  76.  78.  87.]\n",
      " [ 11.  36.  39.  44.  62.  74.  80.  88. 100.]\n",
      " [  8.  11.  25.  31.  46.  74.  79.  95.  97.]\n",
      " [ 26.  32.  41.  45.  47.  70.  75.  89.  94.]\n",
      " [ 25.  30.  51.  54.  61.  68.  69.  93.  94.]\n",
      " [ 22.  26.  39.  55.  56.  74.  81.  90.  96.]\n",
      " [ 12.  25.  30.  33.  43.  44.  50.  53.  72.]\n",
      " [ 15.  23.  33.  33.  40.  41.  68.  73.  78.]\n",
      " [  7.  10.  15.  35.  44.  59.  78.  78.  84.]\n",
      " [ 11.  14.  19.  28.  62.  73.  78.  80.  90.]] \n",
      "=====================\n",
      "Сортировка обменом:\n",
      "\n",
      " [[ 10.  17.  22.  29.  41.  48.  76.  78.  87.]\n",
      " [ 11.  36.  39.  44.  62.  74.  80.  88. 100.]\n",
      " [  8.  11.  25.  31.  46.  74.  79.  95.  97.]\n",
      " [ 26.  32.  41.  45.  47.  70.  75.  89.  94.]\n",
      " [ 25.  30.  51.  54.  61.  68.  69.  93.  94.]\n",
      " [ 22.  26.  39.  55.  56.  74.  81.  90.  96.]\n",
      " [ 12.  25.  30.  33.  43.  44.  50.  53.  72.]\n",
      " [ 15.  23.  33.  33.  40.  41.  68.  73.  78.]\n",
      " [  7.  10.  15.  35.  44.  59.  78.  78.  84.]\n",
      " [ 11.  14.  19.  28.  62.  73.  78.  80.  90.]] \n",
      "=====================\n",
      "Сортировка Шелла:\n",
      "\n",
      " [[ 10.  17.  22.  29.  41.  48.  76.  78.  87.]\n",
      " [ 11.  36.  39.  44.  62.  74.  80.  88. 100.]\n",
      " [  8.  11.  25.  31.  46.  74.  79.  95.  97.]\n",
      " [ 26.  32.  41.  45.  47.  70.  75.  89.  94.]\n",
      " [ 25.  30.  51.  54.  61.  68.  69.  93.  94.]\n",
      " [ 22.  26.  39.  55.  56.  74.  81.  90.  96.]\n",
      " [ 12.  25.  30.  33.  43.  44.  50.  53.  72.]\n",
      " [ 15.  23.  33.  33.  40.  41.  68.  73.  78.]\n",
      " [  7.  10.  15.  35.  44.  59.  78.  78.  84.]\n",
      " [ 11.  14.  19.  28.  62.  73.  78.  80.  90.]] \n",
      "=====================\n",
      "Быстрая сортировка:\n",
      "\n",
      " [[ 10.  17.  22.  29.  41.  48.  76.  78.  87.]\n",
      " [ 11.  36.  39.  44.  62.  74.  80.  88. 100.]\n",
      " [  8.  11.  25.  31.  46.  79.  95.  74.  97.]\n",
      " [ 26.  32.  41.  45.  47.  75.  70.  89.  94.]\n",
      " [ 25.  30.  61.  93.  51.  54.  68.  69.  94.]\n",
      " [ 22.  26.  39.  55.  56.  74.  81.  90.  96.]\n",
      " [ 12.  25.  30.  33.  43.  44.  50.  53.  72.]\n",
      " [ 15.  23.  33.  33.  40.  41.  68.  73.  78.]\n",
      " [  7.  10.  15.  59.  78.  78.  35.  44.  84.]\n",
      " [ 11.  14.  19.  28.  62.  73.  78.  80.  90.]] \n",
      "=====================\n"
     ]
    }
   ],
   "source": [
    "print(\"Исходная матрица:\\n\\n\",array,\"\\n=====================\")\n",
    "print(\"Сортировка выборкой:\\n\\n\",Selection_Sort(array),\"\\n=====================\")\n",
    "print(\"Сортировка вставкой:\\n\\n\",Insertion_Sort(array),\"\\n=====================\")\n",
    "print(\"Сортировка обменом:\\n\\n\",Bubble_Sort(array),\"\\n=====================\")\n",
    "print(\"Сортировка Шелла:\\n\\n\",Shell_Sort(array),\"\\n=====================\")\n",
    "print(\"Быстрая сортировка:\\n\\n\",Quicksort_Start(array),\"\\n=====================\")"
   ]
  },
  {
   "cell_type": "code",
   "execution_count": null,
   "metadata": {},
   "outputs": [],
   "source": []
  },
  {
   "cell_type": "code",
   "execution_count": null,
   "metadata": {},
   "outputs": [],
   "source": []
  }
 ],
 "metadata": {
  "kernelspec": {
   "display_name": "Python 3",
   "language": "python",
   "name": "python3"
  },
  "language_info": {
   "codemirror_mode": {
    "name": "ipython",
    "version": 3
   },
   "file_extension": ".py",
   "mimetype": "text/x-python",
   "name": "python",
   "nbconvert_exporter": "python",
   "pygments_lexer": "ipython3",
   "version": "3.8.5"
  }
 },
 "nbformat": 4,
 "nbformat_minor": 4
}
