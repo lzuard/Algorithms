{
 "cells": [
  {
   "cell_type": "markdown",
   "metadata": {},
   "source": [
    "# Лаборатораня работа №3\n",
    "## Выполнил студент группы БСТ1902 Птушкин А.Н."
   ]
  },
  {
   "cell_type": "markdown",
   "metadata": {},
   "source": [
    "Реализовать следующие структуры данных:\n",
    "\n",
    "● Стек (stack):\n",
    "операции для стека: инициализация, проверка на пустоту, добавление нового элемента в начало, извлечение элемента из начала;\n",
    "\n",
    "● Дек (двусторонняя очередь, deque):\n",
    "операции для дека: инициализация, проверка на пустоту, добавление нового элемента в начало, добавление нового элемента в конец, извлечение элемента из начала, извлечение элемента из конца.\n",
    "\n",
    "Разработать программу обработки данных, содержащихся в заранее подготовленном txt-файле, в соответствии с заданиями, применив указанную в задании структуру данных. Результат работы программы вывести на экран и сохранить в отдельном txt-файле."
   ]
  },
  {
   "cell_type": "markdown",
   "metadata": {},
   "source": [
    "## 1 Часть"
   ]
  },
  {
   "cell_type": "markdown",
   "metadata": {},
   "source": [
    "### Связаный список"
   ]
  },
  {
   "cell_type": "code",
   "execution_count": 21,
   "metadata": {},
   "outputs": [],
   "source": [
    "class LinkedList:\n",
    "    def __init__(self, value=None):\n",
    "        self.value = value\n",
    "        self.right = None\n",
    "        self.left = None"
   ]
  },
  {
   "cell_type": "markdown",
   "metadata": {},
   "source": [
    "### Стек"
   ]
  },
  {
   "cell_type": "code",
   "execution_count": 22,
   "metadata": {},
   "outputs": [],
   "source": [
    "class Stack:\n",
    "    def __init__(self):\n",
    "        self.__objects = LinkedList()\n",
    "        self.size = 0\n",
    "\n",
    "    def empty(self):\n",
    "        return self.size == 0\n",
    "\n",
    "    def push(self, value):\n",
    "        if self.size > 0:\n",
    "            temp = LinkedList(value)\n",
    "            temp.right = self.__objects\n",
    "            self.__objects = temp\n",
    "        else:\n",
    "            self.__objects.value = value\n",
    "        self.size += 1\n",
    "\n",
    "    def pop(self):\n",
    "        if self.empty():\n",
    "            return None\n",
    "        temp = self.__objects\n",
    "        if self.size > 1:\n",
    "            self.__objects = temp.right\n",
    "        self.size -= 1\n",
    "        return temp.value\n",
    "\n",
    "    def peek(self):\n",
    "        if self.empty():\n",
    "            return None\n",
    "        return self.__objects.value\n",
    "\n",
    "    def __len__(self):\n",
    "        return self.size\n",
    "\n",
    "    def reverse(self):\n",
    "        current = self.__objects\n",
    "        prv = None\n",
    "        nxt = None\n",
    "\n",
    "        while current is not None:\n",
    "            nxt = current.right\n",
    "            current.right = prv\n",
    "            prv = current\n",
    "            current = nxt\n",
    "\n",
    "        self.__objects = prv"
   ]
  },
  {
   "cell_type": "markdown",
   "metadata": {},
   "source": [
    "### Дек"
   ]
  },
  {
   "cell_type": "code",
   "execution_count": 23,
   "metadata": {},
   "outputs": [],
   "source": [
    "class Deque:\n",
    "    def __init__(self):\n",
    "        self.first = LinkedList()\n",
    "        self.last = self.first\n",
    "        self.size = 0\n",
    "\n",
    "    def empty(self):\n",
    "        return self.size == 0\n",
    "\n",
    "    def push_left(self, value):\n",
    "        if self.size > 0:\n",
    "            temp = LinkedList(value)\n",
    "            temp.right = self.last\n",
    "            self.last.left = temp\n",
    "            self.last = temp\n",
    "        else:\n",
    "            self.last.value = value\n",
    "        self.size += 1\n",
    "\n",
    "    def push(self, value):\n",
    "        if self.size > 0:\n",
    "            temp = LinkedList(value)\n",
    "            temp.left = self.first\n",
    "            self.first.right = temp\n",
    "            self.first = temp\n",
    "        else:\n",
    "            self.first.value = value\n",
    "        self.size += 1\n",
    "\n",
    "    def pop_left(self):\n",
    "        if self.empty():\n",
    "            return None\n",
    "        temp = self.last\n",
    "        if self.size > 1:\n",
    "            self.last = temp.right\n",
    "        self.size -= 1\n",
    "        return temp.value\n",
    "\n",
    "    def pop(self):\n",
    "        if self.empty():\n",
    "            return None\n",
    "        temp = self.first\n",
    "        if self.size > 1:\n",
    "            self.first = temp.left\n",
    "        self.size -= 1\n",
    "        return temp.value\n",
    "\n",
    "    def peek(self):\n",
    "        if self.empty():\n",
    "            return None\n",
    "        return self.first.value\n",
    "\n",
    "    def peek_left(self):\n",
    "        if self.empty():\n",
    "            return None\n",
    "        return self.last.value\n",
    "\n",
    "    def __len__(self):\n",
    "        return self.size"
   ]
  },
  {
   "cell_type": "markdown",
   "metadata": {},
   "source": [
    "## 2 Часть"
   ]
  },
  {
   "cell_type": "markdown",
   "metadata": {},
   "source": [
    "### Задание 1"
   ]
  },
  {
   "cell_type": "markdown",
   "metadata": {},
   "source": [
    "Отсортировать строки файла, содержащие названия книг, в алфавитном порядке с использованием двух деков."
   ]
  },
  {
   "cell_type": "code",
   "execution_count": 24,
   "metadata": {},
   "outputs": [],
   "source": [
    "def task1():\n",
    "    #Открываем файл\n",
    "    with open('text1.txt','r') as books:\n",
    "        books=open('text1.txt','r',encoding=\"utf8\")\n",
    "        deque1 = Deque()\n",
    "        deque2 = Deque()\n",
    "        #Перебираем слова и записываем в дек1\n",
    "        for book in books:\n",
    "            deque1.push(book)\n",
    "        #Перебираем слова в деке1\n",
    "        while not deque1.empty():\n",
    "            #Вытаскиваем слово из дек1\n",
    "            x = deque1.pop().replace(\"\\n\", \"\")\n",
    "            #Пока дек2 не пустой и слово х>слово из дек2(справа) (а>я)\n",
    "            while not deque2.empty() and deque2.peek() > x:\n",
    "                #Пермещаем слова из дек2 в дек1 (оба слева)\n",
    "                deque1.push_left(deque2.pop_left())\n",
    "            #Вставляем слева слово х в дек2\n",
    "            deque2.push_left(x)\n",
    "        #Вывод дек2 в консоль (справа-налево)\n",
    "        while not deque2.empty():\n",
    "            print(deque2.pop())"
   ]
  },
  {
   "cell_type": "code",
   "execution_count": 25,
   "metadata": {},
   "outputs": [
    {
     "name": "stdout",
     "output_type": "stream",
     "text": [
      "автомобиль\n",
      "разбор\n",
      "корета\n",
      "алеша\n",
      "питон\n",
      "рлодву\n",
      "крым\n",
      "слово\n",
      "якубович\n"
     ]
    }
   ],
   "source": [
    "task1()"
   ]
  },
  {
   "cell_type": "markdown",
   "metadata": {},
   "source": [
    "### Задание 2"
   ]
  },
  {
   "cell_type": "markdown",
   "metadata": {},
   "source": [
    "Дек содержит последовательность символов для шифровки сообщений. Дан текстовый файл, содержащий зашифрованное сообщение. Пользуясь деком, расшифровать текст. Известно, что при шифровке каждый символ сообщения заменялся следующим за ним в деке по часовой стрелке через один."
   ]
  },
  {
   "cell_type": "code",
   "execution_count": 26,
   "metadata": {},
   "outputs": [],
   "source": [
    "import random"
   ]
  },
  {
   "cell_type": "code",
   "execution_count": 40,
   "metadata": {},
   "outputs": [],
   "source": [
    "#Функция кодирования (Перебор слева направо)\n",
    "def encode(letter,deque):\n",
    "    #Перебор дека с буквами\n",
    "    for i in range(len(deque)):\n",
    "        #Берем букву слева\n",
    "        temp = deque.pop_left()\n",
    "        #Если буква из дека равна данной букве\n",
    "        if temp == letter:\n",
    "            #Кладем букву обратно справа\n",
    "            deque.push(temp)\n",
    "            temp=deque.pop_left()\n",
    "            deque.push(temp)\n",
    "            #Берем следующую букву слева\n",
    "            result = deque.pop_left()\n",
    "            #Кладем ее обратно\n",
    "            deque.push(result)\n",
    "            #Возвращаем\n",
    "            return result\n",
    "        #Кладем букву обратно в дек\n",
    "        deque.push(temp)"
   ]
  },
  {
   "cell_type": "code",
   "execution_count": 41,
   "metadata": {},
   "outputs": [],
   "source": [
    "#Функция декодирования (Перебор справа налево)\n",
    "def decode(letter, deque):\n",
    "    #Перебор дека с буквами\n",
    "    for i in range(len(deque)):\n",
    "        #Берем букву справа\n",
    "        temp = deque.pop()\n",
    "        #Если буква из дека равна данной букве\n",
    "        if temp == letter:\n",
    "            #Кладем букву обратно слева\n",
    "            deque.push_left(temp)\n",
    "            temp=deque.pop()\n",
    "            deque.push_left(temp)\n",
    "            #Берем следующую букву справа\n",
    "            val = deque.pop()\n",
    "            #Кладем ее обратно слева\n",
    "            deque.push_left(val)\n",
    "            #Возвращаем\n",
    "            return val\n",
    "        #Кладем букву обратно в дек слева\n",
    "        deque.push_left(temp)"
   ]
  },
  {
   "cell_type": "code",
   "execution_count": 42,
   "metadata": {},
   "outputs": [],
   "source": [
    "def task2():\n",
    "    #Дек с буквами\n",
    "    deque = Deque()\n",
    "    #Алфавит русских букв\n",
    "    abc = list('абвгдеёжзийклмнопрстуфхцчшщъыьэюя')\n",
    "    #Закодированый и декодированый тексты\n",
    "    encoded = ''\n",
    "    decoded = ''\n",
    "    #Исходный текст\n",
    "    text = input(\"Введите текст: \").lower()\n",
    "\n",
    "    #Перемешивание букв\n",
    "    random.shuffle(abc)\n",
    "    abc = ''.join(abc)\n",
    "\n",
    "    #Запись букв в дек\n",
    "    for letter in abc:\n",
    "        deque.push(letter)\n",
    "\n",
    "    #Кодирование исходного текста\n",
    "    for letter in text:\n",
    "        if encoded_letter := encode(letter,deque):\n",
    "            encoded += encoded_letter\n",
    "        else:\n",
    "            encoded += letter\n",
    "\n",
    "    #Декодирование закодированного текста\n",
    "    for letter in encoded:\n",
    "        if decoded_letter := decode(letter,deque):\n",
    "            decoded += decoded_letter\n",
    "        else:\n",
    "            decoded += letter\n",
    "\n",
    "    print(\"Закодированая версия:\"+encoded)\n",
    "    print(\"Декодированая версия:\"+decoded)"
   ]
  },
  {
   "cell_type": "code",
   "execution_count": 44,
   "metadata": {},
   "outputs": [
    {
     "name": "stdout",
     "output_type": "stream",
     "text": [
      "Введите текст: раз два три\n",
      "Закодированая версия:йим тфи жйб\n",
      "Декодированая версия:раз два три\n"
     ]
    }
   ],
   "source": [
    "task2()"
   ]
  },
  {
   "cell_type": "markdown",
   "metadata": {},
   "source": [
    "### Задание 3"
   ]
  },
  {
   "cell_type": "markdown",
   "metadata": {},
   "source": [
    "Даны три стержня и n дисков различного размера. Диски можно надевать на стержни, образуя из них башни. Перенести n дисков со стержня А на стержень С, сохранив их первоначальный порядок. При переносе дисков необходимо соблюдать следующие правила:\n",
    "- на каждом шаге со стержня на стержень переносить только один диск;\n",
    "- диск нельзя помещать на диск меньшего размера;\n",
    "- для промежуточного хранения можно использовать стержень В.\n",
    "Реализовать алгоритм, используя три стека вместо стержней А, В, С. Информация о дисках хранится в исходном файле."
   ]
  },
  {
   "cell_type": "code",
   "execution_count": 32,
   "metadata": {},
   "outputs": [],
   "source": [
    "#Функция перемещения дисокв между двумя стеками:\n",
    "#Если в одном из стеков нет диска, а в другом есть, то перемещаем туда, где нет\n",
    "#Иначе переносим диск с меньшим значением\n",
    "def move(a, b):\n",
    "    if len(a) == 0 and len(b) > 0:\n",
    "        a.push(b.pop())\n",
    "    elif len(a) > 0 and len(b) == 0:\n",
    "        b.push(a.pop())\n",
    "    elif a.peek() > b.peek():\n",
    "        a.push(b.pop())\n",
    "    else:\n",
    "        b.push(a.pop())"
   ]
  },
  {
   "cell_type": "code",
   "execution_count": 33,
   "metadata": {},
   "outputs": [],
   "source": [
    "def task3():\n",
    "    #Стержни\n",
    "    A = Stack()\n",
    "    B = Stack()\n",
    "    C = Stack()\n",
    "\n",
    "    #Количество дисков\n",
    "    disks = int(input(\"Введите количество дисков: \"))\n",
    "\n",
    "    #Вставляем все диски в стек А\n",
    "    for i in range(disks, 0, -1):\n",
    "        A.push(i)\n",
    "\n",
    "    #Перемещаем диски\n",
    "    #Если дисков четное количество\n",
    "    if disks % 2 == 0:\n",
    "        #Пока все диски не в стеке С\n",
    "        while len(C) != disks:\n",
    "            move(A, B)\n",
    "            move(A, C)\n",
    "            move(B, C)\n",
    "    #Если дисков нечетное количество\n",
    "    else:\n",
    "        #Пока все диски не в стеке С\n",
    "        while len(C) != disks:\n",
    "            move(A, C)\n",
    "            move(A, B)\n",
    "            move(B, C)\n",
    "\n",
    "    #Вывод дисков из стека С\n",
    "    print(\"Диски на стержне С:\")\n",
    "    while not C.empty():\n",
    "        print(C.pop())"
   ]
  },
  {
   "cell_type": "code",
   "execution_count": 34,
   "metadata": {},
   "outputs": [
    {
     "name": "stdout",
     "output_type": "stream",
     "text": [
      "Введите количество дисков: 4\n",
      "Диски на стержне С:\n",
      "1\n",
      "2\n",
      "3\n",
      "4\n"
     ]
    }
   ],
   "source": [
    "task3()"
   ]
  },
  {
   "cell_type": "markdown",
   "metadata": {},
   "source": [
    "### Задание 4"
   ]
  },
  {
   "cell_type": "markdown",
   "metadata": {},
   "source": [
    "Дан текстовый файл с программой на алгоритмическом языке. За один просмотр файла проверить баланс круглых скобок в тексте, используя стек."
   ]
  },
  {
   "cell_type": "code",
   "execution_count": 35,
   "metadata": {},
   "outputs": [],
   "source": [
    "def task4(string):\n",
    "    #Стек для хранения \"(\"\n",
    "    stack = Stack()\n",
    "    #Перебор строки\n",
    "    for i in string:\n",
    "        #Если встречаем \"(\" кладем ее в стек\n",
    "        if i == '(':\n",
    "            stack.push(i)\n",
    "        #Если встречаем \")\" удаляем элемент из стека\n",
    "        elif i == ')':\n",
    "            #Если удалять нечего, то хана\n",
    "            if stack.empty():\n",
    "                return False\n",
    "            stack.pop()\n",
    "    #Если количество скобок было равно, то возвращается True\n",
    "    return stack.empty()"
   ]
  },
  {
   "cell_type": "code",
   "execution_count": 36,
   "metadata": {},
   "outputs": [
    {
     "name": "stdout",
     "output_type": "stream",
     "text": [
      "False\n",
      "True\n"
     ]
    }
   ],
   "source": [
    "print(task4('()())((('))\n",
    "print(task4('(()())()()()()'))"
   ]
  },
  {
   "cell_type": "markdown",
   "metadata": {},
   "source": [
    "### Задание 5"
   ]
  },
  {
   "cell_type": "markdown",
   "metadata": {},
   "source": [
    "Дан текстовый файл с программой на алгоритмическом языке. За один просмотр файла проверить баланс квадратных скобок в тексте, используя дек."
   ]
  },
  {
   "cell_type": "code",
   "execution_count": 45,
   "metadata": {},
   "outputs": [],
   "source": [
    "def task5(string):\n",
    "    #Дек для хранения \"[\"\n",
    "    deque = Deque()\n",
    "    #Перебор строки\n",
    "    for i in string:\n",
    "        #Если встречаем \"[\" кладем ее в дека\n",
    "        if i == '[':\n",
    "            deque.push(i)\n",
    "        # Если встречаем \"]\" удаляем элемент из дека\n",
    "        elif i == ']':\n",
    "            if deque.empty():\n",
    "                return False\n",
    "            deque.pop()\n",
    "    #Если количество скобок было равно, то возвращается True\n",
    "    return deque.empty()"
   ]
  },
  {
   "cell_type": "code",
   "execution_count": 46,
   "metadata": {},
   "outputs": [
    {
     "name": "stdout",
     "output_type": "stream",
     "text": [
      "False\n",
      "False\n"
     ]
    }
   ],
   "source": [
    "print(task5('[][[]]]'))\n",
    "print(task5('[[][][]'))"
   ]
  },
  {
   "cell_type": "markdown",
   "metadata": {},
   "source": [
    "### Задание 6"
   ]
  },
  {
   "cell_type": "markdown",
   "metadata": {},
   "source": [
    "Дан файл из символов. Используя стек, за один просмотр файла напечатать сначала все цифры, затем все буквы, и, наконец, все остальные символы, сохраняя исходный порядок в каждой группе символов."
   ]
  },
  {
   "cell_type": "code",
   "execution_count": 59,
   "metadata": {},
   "outputs": [],
   "source": [
    "def task6():\n",
    "    #Исходный текст\n",
    "    text = 'я пишу тут ка1кие-2то текст9ы //эээ0№рука666'\n",
    "    #Текст для вывода\n",
    "    new_text = ''\n",
    "\n",
    "    #Стеки для букв, цифр и других символов\n",
    "    letters = Stack()\n",
    "    digits = Stack()\n",
    "    others = Stack()\n",
    "\n",
    "    #Перебор символов\n",
    "    for symbol in text:\n",
    "        #Если символ - буква, кладем в стек букв\n",
    "        if symbol.isalpha():\n",
    "            letters.push(symbol)\n",
    "        #Если символ - цифра, кладем в стек цифр\n",
    "        elif symbol.isdigit():\n",
    "            digits.push(symbol)\n",
    "        #Иначе кладем символ в стек для символов\n",
    "        else:\n",
    "            others.push(symbol)\n",
    "\n",
    "    #Переворачиваем стеки\n",
    "    letters.reverse()\n",
    "    digits.reverse()\n",
    "    others.reverse()\n",
    "\n",
    "    #Переносим символы из стеков в строку\n",
    "    while not digits.empty():\n",
    "        new_text += digits.pop()\n",
    "\n",
    "    while not letters.empty():\n",
    "        new_text += letters.pop()\n",
    "\n",
    "    while not others.empty():\n",
    "        new_text += others.pop()\n",
    "\n",
    "    print(new_text)"
   ]
  },
  {
   "cell_type": "code",
   "execution_count": 60,
   "metadata": {},
   "outputs": [
    {
     "name": "stdout",
     "output_type": "stream",
     "text": [
      "1290666япишутуткакиетотекстыэээрука   -  //№\n"
     ]
    }
   ],
   "source": [
    "task6()"
   ]
  },
  {
   "cell_type": "markdown",
   "metadata": {},
   "source": [
    "### Задание 7"
   ]
  },
  {
   "cell_type": "markdown",
   "metadata": {},
   "source": [
    "Дан файл из целых чисел. Используя дек, за один просмотр файла напечатать сначала все отрицательные числа, затем все положительные числа, сохраняя исходный порядок в каждой группе."
   ]
  },
  {
   "cell_type": "code",
   "execution_count": 49,
   "metadata": {},
   "outputs": [],
   "source": [
    "def task7():\n",
    "    #Массив из 10 случайных чисел от -100 до 100\n",
    "    numbers = [random.randint(-100, 100) for i in range(10)]\n",
    "    #Дек\n",
    "    deque = Deque()\n",
    "\n",
    "    # Вывод массива\n",
    "    print(numbers)\n",
    "\n",
    "    #Перебор массива чисел\n",
    "    for n in numbers:\n",
    "        #Если число отрицательное, то ставим слева, иначе справа\n",
    "        if n < 0:\n",
    "            deque.push_left(n)\n",
    "        else:\n",
    "            deque.push(n)\n",
    "\n",
    "    #Перебираем дек, пока слева отрицательное число, ставим его вправо\n",
    "    while not deque.empty():\n",
    "        temp = deque.pop_left()\n",
    "        if temp < 0:\n",
    "            deque.push(temp)\n",
    "        else:\n",
    "            deque.push_left(temp)\n",
    "            break\n",
    "\n",
    "    #Перебираем дек, выводим числа, пока не встретим положительное число\n",
    "    while not deque.empty():\n",
    "        temp = deque.pop()\n",
    "        if temp < 0:\n",
    "            print(temp)\n",
    "        else:\n",
    "            deque.push(temp)\n",
    "            break\n",
    "\n",
    "    #Перебираем дек, выводим числа слева\n",
    "    while not deque.empty():\n",
    "        print(deque.pop_left())"
   ]
  },
  {
   "cell_type": "code",
   "execution_count": 50,
   "metadata": {},
   "outputs": [
    {
     "name": "stdout",
     "output_type": "stream",
     "text": [
      "[-15, -64, 87, -54, -8, 30, -20, -94, 86, -64]\n",
      "-15\n",
      "-64\n",
      "-54\n",
      "-8\n",
      "-20\n",
      "-94\n",
      "-64\n",
      "87\n",
      "30\n",
      "86\n"
     ]
    }
   ],
   "source": [
    "task7()"
   ]
  },
  {
   "cell_type": "markdown",
   "metadata": {},
   "source": [
    "### Задание 8"
   ]
  },
  {
   "cell_type": "markdown",
   "metadata": {},
   "source": [
    "Дан текстовый файл. Используя стек, сформировать новый текстовый файл, содержащий строки исходного файла, записанные в обратном порядке: первая строка становится последней, вторая – предпоследней и т.д.\n"
   ]
  },
  {
   "cell_type": "code",
   "execution_count": 51,
   "metadata": {},
   "outputs": [],
   "source": [
    "def task8():\n",
    "    #Открываем файл\n",
    "    with open('text1.txt', 'r') as books:\n",
    "        books=open('text1.txt','r', encoding='utf8')\n",
    "        #Создаем стек\n",
    "        stack = Stack()\n",
    "\n",
    "        print(\"Исходный текст:\")\n",
    "        #Перебираем строчки\n",
    "        for book in books:\n",
    "            #Удаляем лишние символы\n",
    "            book = book.strip()\n",
    "            #Выводим строчку\n",
    "            print(book)\n",
    "            #Кладем ее в стек\n",
    "            stack.push(book)\n",
    "\n",
    "        print(\"\\nПеревернутый текст:\")\n",
    "        #Вытаскиваем все эелемнты из стека\n",
    "        while not stack.empty():\n",
    "            print(stack.pop())\n"
   ]
  },
  {
   "cell_type": "code",
   "execution_count": 52,
   "metadata": {},
   "outputs": [
    {
     "name": "stdout",
     "output_type": "stream",
     "text": [
      "Исходный текст:\n",
      "слово\n",
      "крым\n",
      "рлодву\n",
      "питон\n",
      "алеша\n",
      "корета\n",
      "разбор\n",
      "автомобиль\n",
      "якубович\n",
      "\n",
      "Перевернутый текст:\n",
      "якубович\n",
      "автомобиль\n",
      "разбор\n",
      "корета\n",
      "алеша\n",
      "питон\n",
      "рлодву\n",
      "крым\n",
      "слово\n"
     ]
    }
   ],
   "source": [
    "task8()"
   ]
  },
  {
   "cell_type": "markdown",
   "metadata": {},
   "source": [
    "### Задание 9"
   ]
  },
  {
   "cell_type": "markdown",
   "metadata": {},
   "source": [
    "Дан текстовый файл. Используя стек, вычислить значение логического выражения, записанного в текстовом файле в следующей форме:\n",
    "\n",
    "< ЛВ > ::= T | F | (N<ЛВ>) | (<ЛВ>A<ЛВ>) | (<ЛВ>X<ЛВ>) | (<ЛВ>O<ЛВ>),\n",
    "\n",
    "где буквами обозначены логические константы и операции:\n",
    "\n",
    "T – True, F – False, N – Not, A – And, X – Xor, O – Or."
   ]
  },
  {
   "cell_type": "code",
   "execution_count": 53,
   "metadata": {},
   "outputs": [],
   "source": [
    "def task9():\n",
    "    #Исходный текст\n",
    "    text = '((T)XF)O(TAT)NOT'\n",
    "\n",
    "    #Стек для операторов и скобок\n",
    "    opstack = Stack()\n",
    "    #Стек для значений (T и F)\n",
    "    vstack = Stack()\n",
    "\n",
    "    i = 0\n",
    "    while True:\n",
    "        #Читать дальше?\n",
    "        read = False\n",
    "        #Если в стеке операторов есть символ\n",
    "        if not opstack.empty():\n",
    "            #case 1 (НЕ)\n",
    "            if opstack.peek() == 'N':\n",
    "                #Вытаскиваем из второго стака значение и кладем туда противоположное\n",
    "                if vstack.empty():\n",
    "                    read = True\n",
    "                else:\n",
    "                    if vstack.pop() == 'T':\n",
    "                        vstack.push('F')\n",
    "                    else:\n",
    "                        vstack.push('T')\n",
    "                    opstack.pop()\n",
    "            #case 2 (И)\n",
    "            elif opstack.peek() == 'A':\n",
    "                if len(vstack) < 2:\n",
    "                    read = True\n",
    "                else:\n",
    "                    #Берем два значения из второго стека, если оба true, то пушим \"T\"\n",
    "                    a = vstack.pop()\n",
    "                    b = vstack.pop()\n",
    "                    if a == b and b == 'T':\n",
    "                        vstack.push('T')\n",
    "                    else:\n",
    "                        vstack.push('F')\n",
    "                    opstack.pop()\n",
    "            #case 3 (ИЛИ)\n",
    "            elif opstack.peek() == 'O':\n",
    "                if len(vstack) < 2:\n",
    "                    read = True\n",
    "                else:\n",
    "                    # Берем два значения из второго стека, если оба false, то пушим \"F\"\n",
    "                    a = vstack.pop()\n",
    "                    b = vstack.pop()\n",
    "                    if a == 'T' or b == 'T':\n",
    "                        vstack.push('T')\n",
    "                    else:\n",
    "                        vstack.push('F')\n",
    "                    opstack.pop()\n",
    "            #case 4 (ИЛИ НЕ, Сложение по модулю два)\n",
    "            elif opstack.peek() == 'X':\n",
    "                if len(vstack) < 2:\n",
    "                    read = True\n",
    "                else:\n",
    "                    # Берем два значения из второго стека, если они не равны, то пушим \"Т\"\n",
    "                    a = vstack.pop()\n",
    "                    b = vstack.pop()\n",
    "                    if a != b:\n",
    "                        vstack.push('T')\n",
    "                    else:\n",
    "                        vstack.push('F')\n",
    "                    opstack.pop()\n",
    "            #case 5 (Если скобка, то читаем дальше)\n",
    "            elif opstack.peek() == '(':\n",
    "                read = True\n",
    "            #case 6\n",
    "            elif opstack.peek() == ')':\n",
    "                opstack.pop()\n",
    "                opstack.pop()\n",
    "        else:\n",
    "            read = True\n",
    "        #Если надо читать дальше, берем следующий символ из текста и кладем в нужный стек\n",
    "        if read:\n",
    "            temp = text[i]\n",
    "            if temp in 'FT':\n",
    "                vstack.push(temp)\n",
    "            if temp in 'AXON()':\n",
    "                opstack.push(temp)\n",
    "            i += 1\n",
    "        #Если закончился текст и стек операторов, выходим\n",
    "        if i == len(text) and len(opstack) == 0:\n",
    "            break\n",
    "\n",
    "    while not vstack.empty():\n",
    "        print(vstack.pop())"
   ]
  },
  {
   "cell_type": "code",
   "execution_count": 54,
   "metadata": {},
   "outputs": [
    {
     "name": "stdout",
     "output_type": "stream",
     "text": [
      "T\n"
     ]
    }
   ],
   "source": [
    "task9()"
   ]
  },
  {
   "cell_type": "markdown",
   "metadata": {},
   "source": [
    "### Задание 10"
   ]
  },
  {
   "cell_type": "markdown",
   "metadata": {},
   "source": [
    "Дан текстовый файл. В текстовом файле записана формула следующего вида: \n",
    "\n",
    "<Формула> ::= <Цифра> | M(<Формула>,<Формула>) | N(Формула>,<Формула>) \n",
    "\n",
    "< Цифра > ::= 0 | 1 | 2 | 3 | 4 | 5 | 6 | 7 | 8 | 9\n",
    "\n",
    "где буквами обозначены функции:\n",
    "\n",
    "M – определение максимума, N – определение минимума.\n",
    "\n",
    "Используя стек, вычислить значение заданного выражения."
   ]
  },
  {
   "cell_type": "code",
   "execution_count": 69,
   "metadata": {},
   "outputs": [],
   "source": [
    "def task10():\n",
    "    # Исходная формула\n",
    "    text = 'M(N(230,220) M(64, N(668, N(7, N(6, M(5, 4))))))'\n",
    "    # Стек для операторов\n",
    "    op = Stack()\n",
    "    # Стек для чисел\n",
    "    nums = Stack()\n",
    "    temp_stack = Stack()\n",
    "    # Временная для записи чисел\n",
    "    num = ''\n",
    "\n",
    "    # Перебираем текст\n",
    "    i = 0\n",
    "    while i < len(text):\n",
    "        # Берем символ\n",
    "        temp = text[i]\n",
    "        # Если символ - число, записываем его во временную для чисел\n",
    "        if temp.isdigit():\n",
    "            num += temp\n",
    "        # Иначе если временная для чисел не пустая, пушим его в стек\n",
    "        elif num != '':\n",
    "            nums.push(num)\n",
    "            num = ''\n",
    "        # Если символ это M или N (M=max, N=min), пушим в стек\n",
    "        if temp == \")\":\n",
    "            nums.push(temp)\n",
    "        if temp in 'MN':\n",
    "            op.push(temp)\n",
    "        i += 1\n",
    "\n",
    "    # Перебираем стек операторов\n",
    "    while not op.empty():\n",
    "        x=nums.pop()\n",
    "        while x==\")\":\n",
    "            x=nums.pop()\n",
    "        nums.push(x)\n",
    "\n",
    "        a = nums.pop()\n",
    "        b = nums.pop()\n",
    "\n",
    "        if (b == \")\"):\n",
    "            temp_stack.push(a)\n",
    "            continue\n",
    "\n",
    "        # Если первое меньше второго, меняем их местами (так первое всегда максимальное)\n",
    "        if int(a) < int(b):\n",
    "            a, b = b, a\n",
    "        # Если в стеке оператор максимума, в числа пушим первое, иначе второе\n",
    "        if op.pop() == 'M':\n",
    "            nums.push(a)\n",
    "        else:\n",
    "            nums.push(b)\n",
    "\n",
    "        if len(temp_stack) > 0:\n",
    "            nums.push(temp_stack.pop())\n",
    "\n",
    "    # Выводим стек чисел\n",
    "    while not nums.empty():\n",
    "        print(nums.pop())"
   ]
  },
  {
   "cell_type": "code",
   "execution_count": 70,
   "metadata": {},
   "outputs": [
    {
     "name": "stdout",
     "output_type": "stream",
     "text": [
      "220\n"
     ]
    }
   ],
   "source": [
    "task10()"
   ]
  },
  {
   "cell_type": "markdown",
   "metadata": {},
   "source": [
    "### Задание 11"
   ]
  },
  {
   "cell_type": "markdown",
   "metadata": {},
   "source": [
    "Дан текстовый файл. Используя стек, проверить, является ли содержимое текстового файла правильной записью формулы вида:\n",
    "\n",
    "< Формула > ::= < Терм > | < Терм > + < Формула > | < Терм > - < Формула >\n",
    "\n",
    "< Терм > ::= < Имя > | (< Формула >)\n",
    "\n",
    "< Имя > ::= x | y | z"
   ]
  },
  {
   "cell_type": "code",
   "execution_count": 57,
   "metadata": {},
   "outputs": [],
   "source": [
    "def task11(text):\n",
    "    #Стек\n",
    "    stack = Stack()\n",
    "\n",
    "    #Бесконечный цикл\n",
    "    i = 0\n",
    "    while True:\n",
    "        #Читать дальше?\n",
    "        read = False\n",
    "        #Если стек не пустой, смотрим что там\n",
    "        if not stack.empty():\n",
    "            #Если скобочка, читаем дальше\n",
    "            if stack.peek() == '(':\n",
    "                read = True\n",
    "            #Если другая скобочка\n",
    "            elif stack.peek() == ')':\n",
    "                #Берем ее\n",
    "                stack.pop()\n",
    "                #Смотрим, что было до нее, если меньше 2х символов, или не формула или не \"(\", то false\n",
    "                if len(stack) < 2 or stack.pop() != 'formula' or stack.pop() != '(':\n",
    "                    return False\n",
    "                #Пушим в стек формулу\n",
    "                stack.push('formula')\n",
    "            #Если в стеке формула\n",
    "            elif stack.peek() == 'formula':\n",
    "                #Берем ее\n",
    "                stack.pop()\n",
    "                #Если перед формулой стоит + или -, то смотрим дальше иначе читаем дальше\n",
    "                if len(stack) > 1 and stack.peek() in '+-':\n",
    "                    #Если перед первой формулой был + или - и другая формула, то пушим формулу (формула+-формула)\n",
    "                    if stack.pop() in '+-' and stack.pop() == 'formula':\n",
    "                        stack.push('formula')\n",
    "                    else:\n",
    "                        return False\n",
    "                else:\n",
    "                    stack.push('formula')\n",
    "                    read = True\n",
    "            else:\n",
    "                read = True\n",
    "        #Если другой символ, читаем\n",
    "        else:\n",
    "            read = True\n",
    "        #Берем следущий символ из стека\n",
    "        if read:\n",
    "            temp = text[i]\n",
    "            #Если это x,y,z, то принимаем его за формулу\n",
    "            if temp in 'xyz':\n",
    "                stack.push('formula')\n",
    "            #Иначе, если это символ, то пушим в стек\n",
    "            elif temp in '()+-':\n",
    "                stack.push(temp)\n",
    "            i += 1\n",
    "        #Если дошли до конца текста и в стеке остлся один символ, выходим из цикла\n",
    "        if i == len(text) and len(stack) == 1:\n",
    "            break\n",
    "            \n",
    "    return True"
   ]
  },
  {
   "cell_type": "code",
   "execution_count": 62,
   "metadata": {
    "scrolled": true
   },
   "outputs": [
    {
     "name": "stdout",
     "output_type": "stream",
     "text": [
      "False\n"
     ]
    }
   ],
   "source": [
    "print(task11('((x + y) + (x - y) + z))'))"
   ]
  },
  {
   "cell_type": "markdown",
   "metadata": {},
   "source": [
    "## Вывод"
   ]
  },
  {
   "cell_type": "markdown",
   "metadata": {},
   "source": [
    "Я научился работать со стеком и деком"
   ]
  },
  {
   "cell_type": "code",
   "execution_count": null,
   "metadata": {},
   "outputs": [],
   "source": []
  }
 ],
 "metadata": {
  "kernelspec": {
   "display_name": "Python 3",
   "language": "python",
   "name": "python3"
  },
  "language_info": {
   "codemirror_mode": {
    "name": "ipython",
    "version": 3
   },
   "file_extension": ".py",
   "mimetype": "text/x-python",
   "name": "python",
   "nbconvert_exporter": "python",
   "pygments_lexer": "ipython3",
   "version": "3.8.5"
  }
 },
 "nbformat": 4,
 "nbformat_minor": 4
}
