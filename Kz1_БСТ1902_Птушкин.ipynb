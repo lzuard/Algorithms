{
 "cells": [
  {
   "cell_type": "markdown",
   "metadata": {},
   "source": [
    "# Контрольные задачи №1\n",
    "## Выполнил студент группы БСТ1902 Птушкин А.Н."
   ]
  },
  {
   "cell_type": "markdown",
   "metadata": {},
   "source": [
    "### Задача 1. «Треугольник с максимальным периметром»\n",
    "Массив A состоит из целых положительных чисел ­ длин отрезков. Составьте из трех отрез­ ков такой треугольник, чтобы его периметр был максимально возможным. Если невозможно составить треугольник с положительной площадью ­ функция возвращает 0."
   ]
  },
  {
   "cell_type": "markdown",
   "metadata": {},
   "source": [
    "#### Функция генерация массива "
   ]
  },
  {
   "cell_type": "code",
   "execution_count": 19,
   "metadata": {},
   "outputs": [],
   "source": [
    "import random\n",
    "import math"
   ]
  },
  {
   "cell_type": "code",
   "execution_count": 20,
   "metadata": {},
   "outputs": [],
   "source": [
    "def get_arr(size, left_bound, right_bound):\n",
    "    _arr = []\n",
    "\n",
    "    if size < 3:\n",
    "        size = 3\n",
    "\n",
    "    if size > 10000:\n",
    "        size = 10000\n",
    "\n",
    "    for i in range(size):\n",
    "        _arr.append(random.randint(left_bound, right_bound))\n",
    "\n",
    "    return _arr"
   ]
  },
  {
   "cell_type": "code",
   "execution_count": 21,
   "metadata": {},
   "outputs": [],
   "source": [
    "def get_p(a, b, c):\n",
    "    return a + b + c"
   ]
  },
  {
   "cell_type": "code",
   "execution_count": 22,
   "metadata": {},
   "outputs": [],
   "source": [
    "def get_s(a, b, c):\n",
    "    p = get_p(a, b, c) / 2\n",
    "\n",
    "    s_not_done = p * (p - a) * (p - b) * (p - c)\n",
    "\n",
    "    if s_not_done > 0:\n",
    "        return math.sqrt(s_not_done)\n",
    "    else:\n",
    "        return 0"
   ]
  },
  {
   "cell_type": "code",
   "execution_count": 23,
   "metadata": {},
   "outputs": [],
   "source": [
    "def get_arr_from_user():\n",
    "    str = input(\"Введите числа через пробел:\\n\") + \" \"\n",
    "\n",
    "    arr = []\n",
    "    temp = \"\"\n",
    "    for i in range(len(str)):\n",
    "        if str[i] == \" \":\n",
    "            arr.append(int(temp))\n",
    "            temp = \"\"\n",
    "        else:\n",
    "            temp += str[i]\n",
    "\n",
    "    return arr"
   ]
  },
  {
   "cell_type": "code",
   "execution_count": 33,
   "metadata": {},
   "outputs": [],
   "source": [
    "def task_1():\n",
    "    # Для ручного ввода массива:\n",
    "    arr = get_arr_from_user()\n",
    "\n",
    "    # Для генерации массива заданного размера:\n",
    "    # arr = get_arr(20,1,10**6)\n",
    "\n",
    "    arr.sort(reverse=True)\n",
    "    \n",
    "    i=0\n",
    "    s=0\n",
    "    \n",
    "    \n",
    "    \n",
    "    while s==0 and i<len(arr)-2:\n",
    "        s=get_s(arr[i],arr[i+1],arr[i+2])\n",
    "        i+=1\n",
    "        \n",
    "    i-=1\n",
    "    \n",
    "    if s>0:\n",
    "        p=get_p(arr[i],arr[i+1],arr[i+2])\n",
    "    else:\n",
    "        p=0\n",
    "        \n",
    "    print(\"Максимальный периметр: \", p)\n",
    "    print(\"Максимальная площадь: \", s)\n",
    "    print(\"Стороны: \", i, i+1, i+2)"
   ]
  },
  {
   "cell_type": "markdown",
   "metadata": {},
   "source": [
    "#### Запуск программы"
   ]
  },
  {
   "cell_type": "code",
   "execution_count": null,
   "metadata": {},
   "outputs": [],
   "source": [
    "task_1()"
   ]
  },
  {
   "cell_type": "markdown",
   "metadata": {},
   "source": [
    "### Задача 2. «Максимальное число»\n",
    "Дан массив неотрицательных целых чисел nums. Расположите их в таком порядке, чтобы вместе они образовали максимально возможное число."
   ]
  },
  {
   "cell_type": "code",
   "execution_count": 16,
   "metadata": {},
   "outputs": [],
   "source": [
    "def first_is_bigger(int_val1, int_val2):\n",
    "    val1=str(int_val1)\n",
    "    val2=str(int_val2)\n",
    "    \n",
    "    \n",
    "    if int(val1+val2)>int(val2+val1):\n",
    "        return True\n",
    "    else:\n",
    "        return False"
   ]
  },
  {
   "cell_type": "code",
   "execution_count": 17,
   "metadata": {},
   "outputs": [],
   "source": [
    "def task_2():\n",
    "    # Для ручного ввода массива:\n",
    "    arr = get_arr_from_user()\n",
    "\n",
    "    # Для генерации массива заданного размера:\n",
    "    # arr = get_arr(20,1,100)\n",
    "\n",
    "    answer = \"\"\n",
    "\n",
    "    for i in range(len(arr) - 1):\n",
    "        max_elem = arr[i]\n",
    "        max_index = i\n",
    "\n",
    "        for j in range(i + 1, len(arr)):\n",
    "            if first_is_bigger(arr[j], max_elem):\n",
    "                max_elem = arr[j]\n",
    "                max_index = j\n",
    "\n",
    "        temp = arr[i]\n",
    "        arr[i] = max_elem\n",
    "        arr[max_index] = temp\n",
    "\n",
    "    for i in range(len(arr)):\n",
    "        answer += str(arr[i])\n",
    "\n",
    "    print(\"\\nМаксимально возможное число: \",answer)\n"
   ]
  },
  {
   "cell_type": "markdown",
   "metadata": {},
   "source": [
    "#### Запуск программы"
   ]
  },
  {
   "cell_type": "code",
   "execution_count": 18,
   "metadata": {},
   "outputs": [
    {
     "name": "stdout",
     "output_type": "stream",
     "text": [
      "Введите числа через пробел:\n",
      "8308 8308 830\n",
      "\n",
      "Максимально возможное число:  83088308830\n"
     ]
    }
   ],
   "source": [
    "task_2()"
   ]
  },
  {
   "cell_type": "markdown",
   "metadata": {},
   "source": [
    "### Задача 3. «Сортировка диагоналей в матрице»\n",
    "Дана матрица mat размером m * n, значения ­ целочисленные. Напишите функцию, сор­ тирующую каждую диагональ матрицы по возрастанию и возвращающую получившуюся мат­ рицу."
   ]
  },
  {
   "cell_type": "code",
   "execution_count": 20,
   "metadata": {},
   "outputs": [],
   "source": [
    "def print_matrix(matrix):\n",
    "    for i in range(len(matrix)):\n",
    "        print(matrix[i], \"\")"
   ]
  },
  {
   "cell_type": "code",
   "execution_count": 21,
   "metadata": {},
   "outputs": [],
   "source": [
    "def take_nums(matrix, row, col):\n",
    "    temp = []\n",
    "    while row < len(matrix) and col < len(matrix[0]):\n",
    "        temp.append(matrix[row][col])\n",
    "        row += 1\n",
    "        col += 1\n",
    "    return temp"
   ]
  },
  {
   "cell_type": "code",
   "execution_count": 22,
   "metadata": {},
   "outputs": [],
   "source": [
    "def insert_nums(matrix, row, col, arr):\n",
    "    i = 0\n",
    "    while row < len(matrix) and col < len(matrix[0]) and i < len(arr):\n",
    "        matrix[row][col]=arr[i]\n",
    "        row += 1\n",
    "        col += 1\n",
    "        i += 1"
   ]
  },
  {
   "cell_type": "code",
   "execution_count": 25,
   "metadata": {},
   "outputs": [],
   "source": [
    "def task_3():\n",
    "    matrix = []\n",
    "    m = 4  # rows\n",
    "    n = 4  # column\n",
    "    for i in range(m):\n",
    "        matrix.append(get_arr(n, 1, 100))\n",
    "\n",
    "    print(\"Исходная матрица\")\n",
    "    print_matrix(matrix)\n",
    "    print(\"\\n\")\n",
    "\n",
    "    # левая часть\n",
    "    for i in range(m):\n",
    "        temp = take_nums(matrix, i, 0)\n",
    "        temp.sort()\n",
    "        insert_nums(matrix, i, 0, temp)\n",
    "\n",
    "    # правая часть\n",
    "    for i in range(n):\n",
    "        temp = take_nums(matrix, 0, i)\n",
    "        temp.sort()\n",
    "        insert_nums(matrix, 0, i, temp)\n",
    "\n",
    "    print(\"Отсортированная матрица\")\n",
    "    print_matrix(matrix)\n",
    "    print(\"\\n\")"
   ]
  },
  {
   "cell_type": "markdown",
   "metadata": {},
   "source": [
    "#### Запуск программы"
   ]
  },
  {
   "cell_type": "code",
   "execution_count": 26,
   "metadata": {},
   "outputs": [
    {
     "name": "stdout",
     "output_type": "stream",
     "text": [
      "Исходная матрица\n",
      "[18, 76, 45, 72] \n",
      "[52, 27, 73, 65] \n",
      "[49, 94, 49, 36] \n",
      "[8, 85, 68, 55] \n",
      "\n",
      "\n",
      "Отсортированная матрица\n",
      "[18, 36, 45, 72] \n",
      "[52, 27, 73, 65] \n",
      "[49, 68, 49, 76] \n",
      "[8, 85, 94, 55] \n",
      "\n",
      "\n"
     ]
    }
   ],
   "source": [
    "task_3()"
   ]
  },
  {
   "cell_type": "code",
   "execution_count": null,
   "metadata": {},
   "outputs": [],
   "source": []
  }
 ],
 "metadata": {
  "kernelspec": {
   "display_name": "Python 3",
   "language": "python",
   "name": "python3"
  },
  "language_info": {
   "codemirror_mode": {
    "name": "ipython",
    "version": 3
   },
   "file_extension": ".py",
   "mimetype": "text/x-python",
   "name": "python",
   "nbconvert_exporter": "python",
   "pygments_lexer": "ipython3",
   "version": "3.8.5"
  }
 },
 "nbformat": 4,
 "nbformat_minor": 4
}
