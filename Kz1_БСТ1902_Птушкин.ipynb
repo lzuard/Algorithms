{
 "cells": [
  {
   "cell_type": "markdown",
   "metadata": {},
   "source": [
    "# Контрольные задачи №1\n",
    "## Выполнил студент группы БСТ1902 Птушкин А.Н."
   ]
  },
  {
   "cell_type": "markdown",
   "metadata": {},
   "source": [
    "### Задача 1. «Треугольник с максимальным периметром»\n",
    "Массив A состоит из целых положительных чисел ­ длин отрезков. Составьте из трех отрез­ ков такой треугольник, чтобы его периметр был максимально возможным. Если невозможно составить треугольник с положительной площадью ­ функция возвращает 0."
   ]
  },
  {
   "cell_type": "markdown",
   "metadata": {},
   "source": [
    "#### Функция генерация массива "
   ]
  },
  {
   "cell_type": "code",
   "execution_count": 1,
   "metadata": {},
   "outputs": [],
   "source": [
    "import random\n",
    "import math"
   ]
  },
  {
   "cell_type": "code",
   "execution_count": 2,
   "metadata": {},
   "outputs": [],
   "source": [
    "def get_arr(size, left_bound, right_bound):\n",
    "    _arr = []\n",
    "\n",
    "    if size < 3:\n",
    "        size = 3\n",
    "\n",
    "    if size > 10000:\n",
    "        size = 10000\n",
    "\n",
    "    for i in range(size):\n",
    "        _arr.append(random.randint(left_bound, right_bound))\n",
    "\n",
    "    return _arr"
   ]
  },
  {
   "cell_type": "code",
   "execution_count": 3,
   "metadata": {},
   "outputs": [],
   "source": [
    "def get_p(a, b, c):\n",
    "    return a + b + c"
   ]
  },
  {
   "cell_type": "code",
   "execution_count": 4,
   "metadata": {},
   "outputs": [],
   "source": [
    "def get_s(a, b, c):\n",
    "    p = get_p(a, b, c) / 2\n",
    "\n",
    "    s_not_done = p * (p - a) * (p - b) * (p - c)\n",
    "\n",
    "    if s_not_done > 0:\n",
    "        return math.sqrt(s_not_done)\n",
    "    else:\n",
    "        return 0"
   ]
  },
  {
   "cell_type": "code",
   "execution_count": 5,
   "metadata": {},
   "outputs": [],
   "source": [
    "def get_arr_from_user():\n",
    "    str = input(\"Введите числа через пробел:\\n\") + \" \"\n",
    "\n",
    "    arr = []\n",
    "    temp = \"\"\n",
    "    for i in range(len(str)):\n",
    "        if str[i] == \" \":\n",
    "            arr.append(int(temp))\n",
    "            temp = \"\"\n",
    "        else:\n",
    "            temp += str[i]\n",
    "\n",
    "    return arr"
   ]
  },
  {
   "cell_type": "code",
   "execution_count": 6,
   "metadata": {},
   "outputs": [],
   "source": [
    "def task_1():\n",
    "    # Для ручного ввода массива:\n",
    "    arr = get_arr_from_user()\n",
    "\n",
    "    # Для генерации массива заданного размера:\n",
    "    # arr = get_arr(20,1,10**6)\n",
    "\n",
    "    size = len(arr)\n",
    "\n",
    "    indexes = []\n",
    "    p_max = 0\n",
    "    s_max = 0\n",
    "\n",
    "    for i in range(size - 2):\n",
    "        a = arr[i]\n",
    "        for j in range(i + 1, size - 1):\n",
    "            b = arr[j]\n",
    "            for k in range(j + 1, size):\n",
    "                c = arr[k]\n",
    "\n",
    "                p = get_p(a, b, c)\n",
    "                s = get_s(a, b, c)\n",
    "                if (p_max < p) and (s > 0):\n",
    "                    p_max = p\n",
    "                    s_max = s\n",
    "                    indexes = [i, j, k]\n",
    "\n",
    "    print(\"Максимальный периметр: \", p_max)\n",
    "    print(\"Максимальная площадь: \", s_max)\n",
    "    print(\"Стороны: \", indexes)"
   ]
  },
  {
   "cell_type": "markdown",
   "metadata": {},
   "source": [
    "#### Запуск программы"
   ]
  },
  {
   "cell_type": "code",
   "execution_count": 10,
   "metadata": {},
   "outputs": [
    {
     "name": "stdout",
     "output_type": "stream",
     "text": [
      "Введите числа через пробел:\n",
      "2 1 2\n",
      "Максимальный периметр:  5\n",
      "Максимальная площадь:  0.9682458365518543\n",
      "Стороны:  [0, 1, 2]\n"
     ]
    }
   ],
   "source": [
    "task_1()"
   ]
  },
  {
   "cell_type": "markdown",
   "metadata": {},
   "source": [
    "### Задача 2. «Максимальное число»\n",
    "Дан массив неотрицательных целых чисел nums. Расположите их в таком порядке, чтобы вместе они образовали максимально возможное число."
   ]
  },
  {
   "cell_type": "code",
   "execution_count": 7,
   "metadata": {},
   "outputs": [],
   "source": [
    "def first_is_bigger(int_val1, int_val2):\n",
    "    val1 = str(int_val1)\n",
    "    val2 = str(int_val2)\n",
    "\n",
    "    if len(val1) > len(val2):\n",
    "        min_size = len(val2)\n",
    "        shorter_val = val2\n",
    "    else:\n",
    "        min_size = len(val1)\n",
    "        shorter_val = val1\n",
    "\n",
    "    i = 0\n",
    "\n",
    "    while i < min_size and val1[i] == val2[i]:\n",
    "        i += 1\n",
    "\n",
    "    if i == min_size:\n",
    "        if shorter_val == val1:\n",
    "            i+=1\n",
    "            if int(val2[i]) > int(val1[i-1]):\n",
    "                return False\n",
    "            return True\n",
    "        else:\n",
    "            i+=1\n",
    "            if int(val1[i]) > 0:\n",
    "                return True\n",
    "            return False\n",
    "    elif int(val1[i]) > int(val2[i]):\n",
    "        return True\n",
    "    else:\n",
    "        return False\n"
   ]
  },
  {
   "cell_type": "code",
   "execution_count": 8,
   "metadata": {},
   "outputs": [],
   "source": [
    "def task_2():\n",
    "    # Для ручного ввода массива:\n",
    "    arr = get_arr_from_user()\n",
    "\n",
    "    # Для генерации массива заданного размера:\n",
    "    # arr = get_arr(20,1,100)\n",
    "\n",
    "    answer = \"\"\n",
    "\n",
    "    for i in range(len(arr) - 1):\n",
    "        max_elem = arr[i]\n",
    "        max_index = i\n",
    "\n",
    "        for j in range(i + 1, len(arr)):\n",
    "            if first_is_bigger(arr[j], max_elem):\n",
    "                max_elem = arr[j]\n",
    "                max_index = j\n",
    "\n",
    "        temp = arr[i]\n",
    "        arr[i] = max_elem\n",
    "        arr[max_index] = temp\n",
    "\n",
    "    for i in range(len(arr)):\n",
    "        answer += str(arr[i])\n",
    "\n",
    "    print(\"\\nМаксимально возможное число: \",answer)\n"
   ]
  },
  {
   "cell_type": "markdown",
   "metadata": {},
   "source": [
    "#### Запуск программы"
   ]
  },
  {
   "cell_type": "code",
   "execution_count": 19,
   "metadata": {},
   "outputs": [
    {
     "name": "stdout",
     "output_type": "stream",
     "text": [
      "Введите числа через пробел:\n",
      "3 30 34 5 9\n",
      "\n",
      "Максимально возможное число:  9534330\n"
     ]
    }
   ],
   "source": [
    "task_2()"
   ]
  },
  {
   "cell_type": "markdown",
   "metadata": {},
   "source": [
    "### Задача 3. «Сортировка диагоналей в матрице»\n",
    "Дана матрица mat размером m * n, значения ­ целочисленные. Напишите функцию, сор­ тирующую каждую диагональ матрицы по возрастанию и возвращающую получившуюся мат­ рицу."
   ]
  },
  {
   "cell_type": "code",
   "execution_count": 20,
   "metadata": {},
   "outputs": [],
   "source": [
    "def print_matrix(matrix):\n",
    "    for i in range(len(matrix)):\n",
    "        print(matrix[i], \"\")"
   ]
  },
  {
   "cell_type": "code",
   "execution_count": 21,
   "metadata": {},
   "outputs": [],
   "source": [
    "def take_nums(matrix, row, col):\n",
    "    temp = []\n",
    "    while row < len(matrix) and col < len(matrix[0]):\n",
    "        temp.append(matrix[row][col])\n",
    "        row += 1\n",
    "        col += 1\n",
    "    return temp"
   ]
  },
  {
   "cell_type": "code",
   "execution_count": 22,
   "metadata": {},
   "outputs": [],
   "source": [
    "def insert_nums(matrix, row, col, arr):\n",
    "    i = 0\n",
    "    while row < len(matrix) and col < len(matrix[0]) and i < len(arr):\n",
    "        matrix[row][col]=arr[i]\n",
    "        row += 1\n",
    "        col += 1\n",
    "        i += 1"
   ]
  },
  {
   "cell_type": "code",
   "execution_count": 25,
   "metadata": {},
   "outputs": [],
   "source": [
    "def task_3():\n",
    "    matrix = []\n",
    "    m = 4  # rows\n",
    "    n = 4  # column\n",
    "    for i in range(m):\n",
    "        matrix.append(get_arr(n, 1, 100))\n",
    "\n",
    "    print(\"Исходная матрица\")\n",
    "    print_matrix(matrix)\n",
    "    print(\"\\n\")\n",
    "\n",
    "    # левая часть\n",
    "    for i in range(m):\n",
    "        temp = take_nums(matrix, i, 0)\n",
    "        temp.sort()\n",
    "        insert_nums(matrix, i, 0, temp)\n",
    "\n",
    "    # правая часть\n",
    "    for i in range(n):\n",
    "        temp = take_nums(matrix, 0, i)\n",
    "        temp.sort()\n",
    "        insert_nums(matrix, 0, i, temp)\n",
    "\n",
    "    print(\"Отсортированная матрица\")\n",
    "    print_matrix(matrix)\n",
    "    print(\"\\n\")"
   ]
  },
  {
   "cell_type": "markdown",
   "metadata": {},
   "source": [
    "#### Запуск программы"
   ]
  },
  {
   "cell_type": "code",
   "execution_count": 26,
   "metadata": {},
   "outputs": [
    {
     "name": "stdout",
     "output_type": "stream",
     "text": [
      "Исходная матрица\n",
      "[18, 76, 45, 72] \n",
      "[52, 27, 73, 65] \n",
      "[49, 94, 49, 36] \n",
      "[8, 85, 68, 55] \n",
      "\n",
      "\n",
      "Отсортированная матрица\n",
      "[18, 36, 45, 72] \n",
      "[52, 27, 73, 65] \n",
      "[49, 68, 49, 76] \n",
      "[8, 85, 94, 55] \n",
      "\n",
      "\n"
     ]
    }
   ],
   "source": [
    "task_3()"
   ]
  },
  {
   "cell_type": "code",
   "execution_count": null,
   "metadata": {},
   "outputs": [],
   "source": []
  }
 ],
 "metadata": {
  "kernelspec": {
   "display_name": "Python 3",
   "language": "python",
   "name": "python3"
  },
  "language_info": {
   "codemirror_mode": {
    "name": "ipython",
    "version": 3
   },
   "file_extension": ".py",
   "mimetype": "text/x-python",
   "name": "python",
   "nbconvert_exporter": "python",
   "pygments_lexer": "ipython3",
   "version": "3.8.5"
  }
 },
 "nbformat": 4,
 "nbformat_minor": 4
}
