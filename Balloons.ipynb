{
 "cells": [
  {
   "cell_type": "markdown",
   "metadata": {},
   "source": [
    "### Задача 1. «Шарики и стрелы»"
   ]
  },
  {
   "cell_type": "markdown",
   "metadata": {},
   "source": [
    "Некоторые сферические шарики распределены по двухмерному пространству. Для каждого шарика даны x­координаты начала и конца его горизонтального диаметра. Так как пространство двумерно, то y­координаты не имеют значения в данной задаче. Координата xstart всегда меньше xend .\n",
    "Стрелу можно выстрелить строго вертикально (вдоль y­оси) из разных точек x­оси. Шарик с координатами xstart и xend уничтожается стрелой, если она была выпущена из такой позиции x, что xstart ⩽ x ⩽ xend. Когда стрела выпущена, она летит в пространстве бесконечное время (уничтожая все шарики на пути).\n",
    "Дан массив points, где points[i] = [xstart, xend]. Напишите функцию, возвращаю­ щую минимальное количество стрел, которые нужно выпустить, чтобы уничтожить все шари­ ки."
   ]
  },
  {
   "cell_type": "code",
   "execution_count": 3,
   "metadata": {},
   "outputs": [],
   "source": [
    "import random"
   ]
  },
  {
   "cell_type": "code",
   "execution_count": 4,
   "metadata": {},
   "outputs": [],
   "source": [
    "def get_arr(size, left_bound, right_bound):\n",
    "    _arr = []\n",
    "    for i in range(size):\n",
    "        _arr.append(random.randint(left_bound, right_bound))\n",
    "\n",
    "    _arr.sort()\n",
    "    return _arr"
   ]
  },
  {
   "cell_type": "code",
   "execution_count": 5,
   "metadata": {},
   "outputs": [],
   "source": [
    "def arr_sort(arr):\n",
    "    for i in range(len(arr) - 1):\n",
    "        minXstart = arr[i][0]\n",
    "        min_index = i\n",
    "        for j in range(i + 1, len(arr)):\n",
    "            if minXstart > arr[j][0]:\n",
    "                min_index = j\n",
    "                minXstart = arr[j][0]\n",
    "        temp = arr[i]\n",
    "        arr[i] = arr[min_index]\n",
    "        arr[min_index] = temp"
   ]
  },
  {
   "cell_type": "code",
   "execution_count": 6,
   "metadata": {},
   "outputs": [],
   "source": [
    "def balloons_task():\n",
    "    #points = [[1,2],[3,4],[5,6],[7,8]]\n",
    "    points = []\n",
    "    size = 8\n",
    "    for i in range(size):\n",
    "        points.append(get_arr(2, 0, 100))\n",
    "        \n",
    "    arr_sort(points)\n",
    "    print(\"Массив:\\n\", points)\n",
    "    shots = 0\n",
    "    while len(points) > 0:\n",
    "        count=0\n",
    "        i = 1\n",
    "        while i < len(points) and points[i - 1][1] >= points[i][0] and points[0][1] >= points[i][0]:\n",
    "            i += 1\n",
    "            count += 1\n",
    "\n",
    "        while count >= 0:\n",
    "            del points[count]\n",
    "\n",
    "            count -= 1\n",
    "\n",
    "        shots += 1\n",
    "    print(\"\\nКоличество выстрелов:\", shots)"
   ]
  },
  {
   "cell_type": "markdown",
   "metadata": {},
   "source": [
    "#### Запуск программы"
   ]
  },
  {
   "cell_type": "code",
   "execution_count": 7,
   "metadata": {},
   "outputs": [
    {
     "name": "stdout",
     "output_type": "stream",
     "text": [
      "Массив:\n",
      " [[3, 58], [4, 58], [6, 77], [10, 12], [13, 66], [19, 33], [31, 64], [59, 76]]\n",
      "\n",
      "Количество выстрелов: 2\n"
     ]
    }
   ],
   "source": [
    "balloons_task()"
   ]
  },
  {
   "cell_type": "code",
   "execution_count": null,
   "metadata": {},
   "outputs": [],
   "source": []
  }
 ],
 "metadata": {
  "kernelspec": {
   "display_name": "Python 3",
   "language": "python",
   "name": "python3"
  },
  "language_info": {
   "codemirror_mode": {
    "name": "ipython",
    "version": 3
   },
   "file_extension": ".py",
   "mimetype": "text/x-python",
   "name": "python",
   "nbconvert_exporter": "python",
   "pygments_lexer": "ipython3",
   "version": "3.8.5"
  }
 },
 "nbformat": 4,
 "nbformat_minor": 4
}
