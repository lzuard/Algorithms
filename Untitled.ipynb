{
 "cells": [
  {
   "cell_type": "markdown",
   "metadata": {},
   "source": [
    "# Лаборатораня работа №3\n",
    "## Выполнил студент группы БСТ1902 Птушкин А.Н."
   ]
  },
  {
   "cell_type": "markdown",
   "metadata": {},
   "source": [
    "### Задание №1\n",
    "Реализовать методы поиска подстроки в строке. Добавить возможность ввода строки и подстроки с клавиатуры. Предусмотреть возможность существования пробела. Реализовать возможность выбора опции чувствительности или нечувствительности к регистру. Оценить время работы каждого алгоритма поиска и сравнить его со временем работы стандартной функции поиска, используемой в выбранном языке программирования.\n"
   ]
  },
  {
   "cell_type": "code",
   "execution_count": 11,
   "metadata": {},
   "outputs": [],
   "source": [
    "class SubstringSearch:\n",
    "    def __init__(self):\n",
    "        self.case_ignore=False\n",
    "        self.space_ignore=False\n",
    "\n",
    "    def ignoring(self, text, search_str):\n",
    "        if self.case_ignore:\n",
    "            text = text.lower()\n",
    "            search_str = search_str.lower()\n",
    "\n",
    "        if self.space_ignore:\n",
    "            text = text.replace(\" \", \"\")\n",
    "            search_str = search_str.replace(\" \", \"\")\n",
    "\n",
    "        return text,search_str\n",
    "\n",
    "    def __find_prefix(self,text):\n",
    "        prefix =[]\n",
    "        for i in range(len(text)):\n",
    "            prefix.append(0)\n",
    "\n",
    "        for i in range(1, len(text)):\n",
    "            k = prefix[i - 1]\n",
    "            while k > 0 and text[k] != text[i]:\n",
    "                k = prefix[k - 1]\n",
    "            if text[k] == text[i]:\n",
    "                k += 1\n",
    "            prefix[i] = k\n",
    "\n",
    "        return prefix\n",
    "\n",
    "    def search_kmp(self,text, search_str):\n",
    "        text,search_str=self.ignoring(text,search_str)\n",
    "\n",
    "        result = []\n",
    "        k = 0\n",
    "\n",
    "        prefix = self.__find_prefix(text)\n",
    "\n",
    "        for i in range(len(text)):\n",
    "            while k > 0 and text[i] != search_str[k]:\n",
    "                k = prefix[k - 1]\n",
    "            if text[i] == search_str[k]:\n",
    "                k += 1\n",
    "            if k == len(search_str):\n",
    "                result.append((i - len(search_str) + 1, i + 1))\n",
    "                k = prefix[k - 1]\n",
    "\n",
    "        return result\n",
    "\n",
    "    def __find_table(self,search_str):\n",
    "        table = [len(search_str)] * 256\n",
    "        for i in range(len(search_str) - 1):\n",
    "            table[ord(search_str[i])] = len(search_str) - 1 - i\n",
    "        return table\n",
    "\n",
    "    def search_bm(self,text, search_str):\n",
    "        text,search_str=self.ignoring(text,search_str)\n",
    "        answer = []\n",
    "        table = self.__find_table(search_str)\n",
    "        skip = 0\n",
    "        while len(text) - skip >= len(search_str):\n",
    "            if text[skip:(skip + len(search_str))] == search_str:\n",
    "                answer.append((skip, skip + len(search_str)))\n",
    "            skip += table[ord(text[skip + len(search_str) - 1])]\n",
    "        return answer"
   ]
  },
  {
   "cell_type": "code",
   "execution_count": 23,
   "metadata": {},
   "outputs": [],
   "source": [
    "def start_search():\n",
    "    print(\"Какой метод использовать:\\n1-Кнута-Мориса-Прата\\n2-Упрощенный Бойерса-Мура\\n\")\n",
    "    method=int(input())\n",
    "    \n",
    "    search=SubstringSearch()\n",
    "    print(search.search_bm(\"bla bla blo bla\",\"blo\"))\n",
    "    print(search.search_kmp(\"bla bla blo bla\",\"blo\"))\n",
    "\n",
    "\n",
    "    "
   ]
  },
  {
   "cell_type": "code",
   "execution_count": 24,
   "metadata": {},
   "outputs": [
    {
     "name": "stdout",
     "output_type": "stream",
     "text": [
      "Какой метод использовать:\n",
      "1-Кнута-Мориса-Прата\n",
      "2-Упрощенный Бойерса-Мура\n",
      "\n",
      "1\n",
      "[(8, 11)]\n",
      "[(8, 11)]\n"
     ]
    }
   ],
   "source": [
    "start_search()"
   ]
  },
  {
   "cell_type": "code",
   "execution_count": null,
   "metadata": {},
   "outputs": [],
   "source": []
  },
  {
   "cell_type": "code",
   "execution_count": null,
   "metadata": {},
   "outputs": [],
   "source": []
  }
 ],
 "metadata": {
  "kernelspec": {
   "display_name": "Python 3",
   "language": "python",
   "name": "python3"
  },
  "language_info": {
   "codemirror_mode": {
    "name": "ipython",
    "version": 3
   },
   "file_extension": ".py",
   "mimetype": "text/x-python",
   "name": "python",
   "nbconvert_exporter": "python",
   "pygments_lexer": "ipython3",
   "version": "3.8.5"
  }
 },
 "nbformat": 4,
 "nbformat_minor": 4
}
